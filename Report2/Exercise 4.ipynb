{
 "cells": [
  {
   "cell_type": "markdown",
   "metadata": {},
   "source": [
    "# Exercise 4. - Data Cleansing"
   ]
  },
  {
   "cell_type": "markdown",
   "metadata": {},
   "source": [
    "## Handling Missing Values in Python"
   ]
  },
  {
   "cell_type": "markdown",
   "metadata": {},
   "source": [
    "![Missing values](missing.png)"
   ]
  },
  {
   "cell_type": "markdown",
   "metadata": {},
   "source": [
    "Real world data is messy and often contains a lot of missing values. \n",
    "\n",
    "There could be multiple reasons for the missing values but primarily the reason for missingness can be attributed to:\n",
    "\n",
    "| Reason for missing Data | \n",
    "| :-----------: | \n",
    "| Data doesn't exist |\n",
    "| Data not collected due to human error. | \n",
    "| Data deleted accidently |"
   ]
  },
  {
   "cell_type": "markdown",
   "metadata": {},
   "source": [
    "## A guide to handling missing values \n",
    "\n",
    "Please read this tutorial on handling missing values first, before working on dirty data this week: [TUTORIAL](a_guide_to_na.ipynb)."
   ]
  },
  {
   "cell_type": "markdown",
   "metadata": {},
   "source": [
    "# Dirty data"
   ]
  },
  {
   "cell_type": "code",
   "execution_count": 28,
   "metadata": {},
   "outputs": [],
   "source": [
    "import pandas as pd\n",
    "import numpy as np\n",
    "from sklearn.ensemble import RandomForestClassifier\n",
    "import warnings\n",
    "import ssl\n",
    "# Suppress warnings\n",
    "warnings.filterwarnings('ignore')\n",
    "# Disable SSL verification\n",
    "ssl._create_default_https_context = ssl._create_unverified_context\n",
    "import requests\n",
    "from io import StringIO"
   ]
  },
  {
   "cell_type": "markdown",
   "metadata": {},
   "source": [
    "Load the dataset from the provided URL using pandas."
   ]
  },
  {
   "cell_type": "code",
   "execution_count": 29,
   "metadata": {},
   "outputs": [
    {
     "name": "stdout",
     "output_type": "stream",
     "text": [
      "   Sepal.Length  Sepal.Width  Petal.Length  Petal.Width     Species\n",
      "0           6.4          3.2           4.5          1.5  versicolor\n",
      "1           6.3          3.3           6.0          2.5   virginica\n",
      "2           6.2          NaN           5.4          2.3   virginica\n",
      "3           5.0          3.4           1.6          0.4      setosa\n",
      "4           5.7          2.6           3.5          1.0  versicolor\n"
     ]
    }
   ],
   "source": [
    "url = \"https://raw.github.com/edwindj/datacleaning/master/data/dirty_iris.csv\"\n",
    "response = requests.get(url, verify=False)\n",
    "data = StringIO(response.text)\n",
    "dirty_iris = pd.read_csv(data, sep=\",\")\n",
    "print(dirty_iris.head())"
   ]
  },
  {
   "cell_type": "markdown",
   "metadata": {},
   "source": [
    "## Introduce Missing Values\n",
    "\n",
    "Randomly introduce missing values into the dataset to mimic the Python code behavior."
   ]
  },
  {
   "cell_type": "code",
   "execution_count": 30,
   "metadata": {},
   "outputs": [],
   "source": [
    "# Load additional data\n",
    "carseats = pd.read_csv(\"https://raw.githubusercontent.com/selva86/datasets/master/Carseats.csv\")\n",
    "\n",
    "# Set random seed for reproducibility\n",
    "np.random.seed(123)\n",
    "\n",
    "# Introduce missing values in 'Income' column\n",
    "income_missing_indices = np.random.choice(carseats.index, size=20, replace=False)\n",
    "carseats.loc[income_missing_indices, 'Income'] = np.nan\n",
    "\n",
    "# Set another random seed for reproducibility\n",
    "np.random.seed(456)\n",
    "\n",
    "# Introduce missing values in 'Urban' column\n",
    "urban_missing_indices = np.random.choice(carseats.index, size=10, replace=False)\n",
    "carseats.loc[urban_missing_indices, 'Urban'] = np.nan\n",
    "\n"
   ]
  },
  {
   "cell_type": "markdown",
   "metadata": {},
   "source": [
    "# Introduction\n",
    "\n",
    "Analysis of data is a process of inspecting, cleaning, transforming, and modeling data with the goal of highlighting useful information, suggesting conclusions and supporting decision making."
   ]
  },
  {
   "cell_type": "markdown",
   "metadata": {},
   "source": [
    "![Descriptive Statistics](images/ds.png)"
   ]
  },
  {
   "cell_type": "markdown",
   "metadata": {},
   "source": [
    "Many times in the beginning we spend hours on handling problems with missing values, logical inconsistencies or outliers in our datasets. In this tutorial we will go through the most popular techniques in data cleansing.\n"
   ]
  },
  {
   "cell_type": "markdown",
   "metadata": {},
   "source": [
    "We will be working with the messy dataset `iris`. Originally published at UCI Machine Learning Repository: Iris Data Set, this small dataset from 1936 is often used for testing out machine learning algorithms and visualizations. Each row of the table represents an iris flower, including its species and dimensions of its botanical parts, sepal and petal, in centimeters.\n",
    "\n",
    "Take a look at this dataset here:"
   ]
  },
  {
   "cell_type": "code",
   "execution_count": 31,
   "metadata": {},
   "outputs": [
    {
     "data": {
      "text/html": [
       "<div>\n",
       "<style scoped>\n",
       "    .dataframe tbody tr th:only-of-type {\n",
       "        vertical-align: middle;\n",
       "    }\n",
       "\n",
       "    .dataframe tbody tr th {\n",
       "        vertical-align: top;\n",
       "    }\n",
       "\n",
       "    .dataframe thead th {\n",
       "        text-align: right;\n",
       "    }\n",
       "</style>\n",
       "<table border=\"1\" class=\"dataframe\">\n",
       "  <thead>\n",
       "    <tr style=\"text-align: right;\">\n",
       "      <th></th>\n",
       "      <th>Sepal.Length</th>\n",
       "      <th>Sepal.Width</th>\n",
       "      <th>Petal.Length</th>\n",
       "      <th>Petal.Width</th>\n",
       "      <th>Species</th>\n",
       "    </tr>\n",
       "  </thead>\n",
       "  <tbody>\n",
       "    <tr>\n",
       "      <th>0</th>\n",
       "      <td>6.4</td>\n",
       "      <td>3.2</td>\n",
       "      <td>4.5</td>\n",
       "      <td>1.5</td>\n",
       "      <td>versicolor</td>\n",
       "    </tr>\n",
       "    <tr>\n",
       "      <th>1</th>\n",
       "      <td>6.3</td>\n",
       "      <td>3.3</td>\n",
       "      <td>6.0</td>\n",
       "      <td>2.5</td>\n",
       "      <td>virginica</td>\n",
       "    </tr>\n",
       "    <tr>\n",
       "      <th>2</th>\n",
       "      <td>6.2</td>\n",
       "      <td>NaN</td>\n",
       "      <td>5.4</td>\n",
       "      <td>2.3</td>\n",
       "      <td>virginica</td>\n",
       "    </tr>\n",
       "    <tr>\n",
       "      <th>3</th>\n",
       "      <td>5.0</td>\n",
       "      <td>3.4</td>\n",
       "      <td>1.6</td>\n",
       "      <td>0.4</td>\n",
       "      <td>setosa</td>\n",
       "    </tr>\n",
       "    <tr>\n",
       "      <th>4</th>\n",
       "      <td>5.7</td>\n",
       "      <td>2.6</td>\n",
       "      <td>3.5</td>\n",
       "      <td>1.0</td>\n",
       "      <td>versicolor</td>\n",
       "    </tr>\n",
       "    <tr>\n",
       "      <th>...</th>\n",
       "      <td>...</td>\n",
       "      <td>...</td>\n",
       "      <td>...</td>\n",
       "      <td>...</td>\n",
       "      <td>...</td>\n",
       "    </tr>\n",
       "    <tr>\n",
       "      <th>145</th>\n",
       "      <td>6.7</td>\n",
       "      <td>3.1</td>\n",
       "      <td>5.6</td>\n",
       "      <td>2.4</td>\n",
       "      <td>virginica</td>\n",
       "    </tr>\n",
       "    <tr>\n",
       "      <th>146</th>\n",
       "      <td>5.6</td>\n",
       "      <td>3.0</td>\n",
       "      <td>4.5</td>\n",
       "      <td>1.5</td>\n",
       "      <td>versicolor</td>\n",
       "    </tr>\n",
       "    <tr>\n",
       "      <th>147</th>\n",
       "      <td>5.2</td>\n",
       "      <td>3.5</td>\n",
       "      <td>1.5</td>\n",
       "      <td>0.2</td>\n",
       "      <td>setosa</td>\n",
       "    </tr>\n",
       "    <tr>\n",
       "      <th>148</th>\n",
       "      <td>6.4</td>\n",
       "      <td>3.1</td>\n",
       "      <td>NaN</td>\n",
       "      <td>1.8</td>\n",
       "      <td>virginica</td>\n",
       "    </tr>\n",
       "    <tr>\n",
       "      <th>149</th>\n",
       "      <td>5.8</td>\n",
       "      <td>2.6</td>\n",
       "      <td>4.0</td>\n",
       "      <td>NaN</td>\n",
       "      <td>versicolor</td>\n",
       "    </tr>\n",
       "  </tbody>\n",
       "</table>\n",
       "<p>150 rows × 5 columns</p>\n",
       "</div>"
      ],
      "text/plain": [
       "     Sepal.Length  Sepal.Width  Petal.Length  Petal.Width     Species\n",
       "0             6.4          3.2           4.5          1.5  versicolor\n",
       "1             6.3          3.3           6.0          2.5   virginica\n",
       "2             6.2          NaN           5.4          2.3   virginica\n",
       "3             5.0          3.4           1.6          0.4      setosa\n",
       "4             5.7          2.6           3.5          1.0  versicolor\n",
       "..            ...          ...           ...          ...         ...\n",
       "145           6.7          3.1           5.6          2.4   virginica\n",
       "146           5.6          3.0           4.5          1.5  versicolor\n",
       "147           5.2          3.5           1.5          0.2      setosa\n",
       "148           6.4          3.1           NaN          1.8   virginica\n",
       "149           5.8          2.6           4.0          NaN  versicolor\n",
       "\n",
       "[150 rows x 5 columns]"
      ]
     },
     "execution_count": 31,
     "metadata": {},
     "output_type": "execute_result"
    }
   ],
   "source": [
    "dirty_iris"
   ]
  },
  {
   "cell_type": "markdown",
   "metadata": {},
   "source": [
    "## Detecting NA\n",
    "\n",
    "A missing value, represented by NaN in Python, is a placeholder for a datum of which the type is known but its value isn't. Therefore, it is impossible to perform statistical analysis on data where one or more values in the data are missing. One may choose to either omit elements from a dataset that contain missing values or to impute a value, but missingness is something to be dealt with prior to any analysis.\n"
   ]
  },
  {
   "cell_type": "markdown",
   "metadata": {},
   "source": [
    "![Descriptive Statistics](images/ds.png)"
   ]
  },
  {
   "cell_type": "markdown",
   "metadata": {},
   "source": [
    "Can you see that many values in our dataset have status NaN = Not Available? Count (or plot), how many (%) of all 150 rows is complete.\n"
   ]
  },
  {
   "cell_type": "code",
   "execution_count": 32,
   "metadata": {},
   "outputs": [
    {
     "name": "stdout",
     "output_type": "stream",
     "text": [
      "Number of complete cases: 96\n",
      "Percentage of complete cases: 64.00%\n"
     ]
    }
   ],
   "source": [
    "# Count the number of complete cases (rows without any missing values)\n",
    "complete_cases = dirty_iris.dropna().shape[0]\n",
    "\n",
    "# Calculate the percentage of complete cases\n",
    "percentage_complete = (complete_cases / dirty_iris.shape[0]) * 100\n",
    "\n",
    "print(f\"Number of complete cases: {complete_cases}\")\n",
    "print(f\"Percentage of complete cases: {percentage_complete:.2f}%\")"
   ]
  },
  {
   "cell_type": "markdown",
   "metadata": {},
   "source": [
    "Does the data contain other special values? If it does, replace them with NA."
   ]
  },
  {
   "cell_type": "code",
   "execution_count": 33,
   "metadata": {},
   "outputs": [
    {
     "name": "stdout",
     "output_type": "stream",
     "text": [
      "        Sepal.Length  Sepal.Width  Petal.Length  Petal.Width     Species\n",
      "count     140.000000   133.000000    131.000000   137.000000         150\n",
      "unique           NaN          NaN           NaN          NaN           3\n",
      "top              NaN          NaN           NaN          NaN  versicolor\n",
      "freq             NaN          NaN           NaN          NaN          50\n",
      "mean        6.559286     3.390977      4.449962     1.207299         NaN\n",
      "std         6.800940     3.315310      5.769299     0.764722         NaN\n",
      "min         0.000000    -3.000000      0.000000     0.100000         NaN\n",
      "25%         5.100000     2.800000      1.600000     0.300000         NaN\n",
      "50%         5.750000     3.000000      4.500000     1.300000         NaN\n",
      "75%         6.400000     3.300000      5.100000     1.800000         NaN\n",
      "max        73.000000    30.000000     63.000000     2.500000         NaN\n"
     ]
    }
   ],
   "source": [
    "# Define a function to check for special values\n",
    "def is_special(x):\n",
    "    if np.issubdtype(x.dtype, np.number):\n",
    "        return ~np.isfinite(x)\n",
    "    else:\n",
    "        return pd.isna(x)\n",
    "\n",
    "# Apply the function to each column and replace special values with NaN\n",
    "for col in dirty_iris.columns:\n",
    "    dirty_iris[col] = dirty_iris[col].apply(lambda x: np.nan if is_special(pd.Series([x]))[0] else x)\n",
    "\n",
    "# Display summary of the data\n",
    "print(dirty_iris.describe(include='all'))"
   ]
  },
  {
   "cell_type": "markdown",
   "metadata": {},
   "source": [
    "## Checking consistency\n",
    "\n",
    "Consistent data are technically correct data that are fit for statistical analysis. They are data in which missing values, special values, (obvious) errors and outliers are either removed, corrected or imputed. The data are consistent with constraints based on real-world knowledge about the subject that the data describe."
   ]
  },
  {
   "cell_type": "markdown",
   "metadata": {},
   "source": [
    "![Iris](images/iris.png)"
   ]
  },
  {
   "cell_type": "markdown",
   "metadata": {},
   "source": [
    "We have the following background knowledge:\n",
    "\n",
    "-   Species should be one of the following values: setosa, versicolor or virginica.\n",
    "\n",
    "-   All measured numerical properties of an iris should be positive.\n",
    "\n",
    "-   The petal length of an iris is at least 2 times its petal width.\n",
    "\n",
    "-   The sepal length of an iris cannot exceed 30 cm.\n",
    "\n",
    "-   The sepals of an iris are longer than its petals.\n",
    "\n",
    "Define these rules in a separate object 'RULES' and read them into Python. Print the resulting constraint object."
   ]
  },
  {
   "cell_type": "code",
   "execution_count": 34,
   "metadata": {},
   "outputs": [
    {
     "name": "stdout",
     "output_type": "stream",
     "text": [
      "Sepal.Length <= 30: False\n",
      "Species in ['setosa', 'versicolor', 'virginica']: True\n",
      "Sepal.Length > 0: False\n",
      "Sepal.Width > 0: False\n",
      "Petal.Length > 0: False\n",
      "Petal.Width > 0: False\n",
      "Petal.Length >= 2 * Petal.Width: False\n",
      "Sepal.Length > Petal.Length: False\n"
     ]
    }
   ],
   "source": [
    "# Define the rules as functions\n",
    "def check_rules(df):\n",
    "    rules = {\n",
    "        \"Sepal.Length <= 30\": df[\"Sepal.Length\"] <= 30,\n",
    "        \"Species in ['setosa', 'versicolor', 'virginica']\": df[\"Species\"].isin(['setosa', 'versicolor', 'virginica']),\n",
    "        \"Sepal.Length > 0\": df[\"Sepal.Length\"] > 0,\n",
    "        \"Sepal.Width > 0\": df[\"Sepal.Width\"] > 0,\n",
    "        \"Petal.Length > 0\": df[\"Petal.Length\"] > 0,\n",
    "        \"Petal.Width > 0\": df[\"Petal.Width\"] > 0,\n",
    "        \"Petal.Length >= 2 * Petal.Width\": df[\"Petal.Length\"] >= 2 * df[\"Petal.Width\"],\n",
    "        \"Sepal.Length > Petal.Length\": df[\"Sepal.Length\"] > df[\"Petal.Length\"]\n",
    "    }\n",
    "    return rules\n",
    "\n",
    "# Apply the rules to the dataframe\n",
    "rules = check_rules(dirty_iris)\n",
    "\n",
    "# Print the rules\n",
    "for rule, result in rules.items():\n",
    "    print(f\"{rule}: {result.all()}\")"
   ]
  },
  {
   "cell_type": "markdown",
   "metadata": {},
   "source": [
    "Now we are ready to determine how often each rule is broken (violations). Also we can summarize and plot the result."
   ]
  },
  {
   "cell_type": "code",
   "execution_count": 35,
   "metadata": {},
   "outputs": [
    {
     "name": "stdout",
     "output_type": "stream",
     "text": [
      "Summary of Violations:\n",
      "Sepal.Length <= 30: 12 violations\n",
      "Species in ['setosa', 'versicolor', 'virginica']: 0 violations\n",
      "Sepal.Length > 0: 11 violations\n",
      "Sepal.Width > 0: 19 violations\n",
      "Petal.Length > 0: 20 violations\n",
      "Petal.Width > 0: 13 violations\n",
      "Petal.Length >= 2 * Petal.Width: 34 violations\n",
      "Sepal.Length > Petal.Length: 30 violations\n"
     ]
    }
   ],
   "source": [
    "# Check for rule violations\n",
    "violations = {rule: ~result for rule, result in rules.items()}\n",
    "\n",
    "# Summarize the violations\n",
    "summary = {rule: result.sum() for rule, result in violations.items()}\n",
    "\n",
    "# Print the summary of violations\n",
    "print(\"Summary of Violations:\")\n",
    "for rule, count in summary.items():\n",
    "    print(f\"{rule}: {count} violations\")"
   ]
  },
  {
   "cell_type": "markdown",
   "metadata": {},
   "source": [
    "What percentage of the data has no errors?"
   ]
  },
  {
   "cell_type": "code",
   "execution_count": 36,
   "metadata": {},
   "outputs": [
    {
     "data": {
      "image/png": "[encoded data removed]",
      "text/plain": [
       "<Figure size 1000x600 with 1 Axes>"
      ]
     },
     "metadata": {},
     "output_type": "display_data"
    }
   ],
   "source": [
    "import matplotlib.pyplot as plt\n",
    "# Plot the violations\n",
    "violation_counts = pd.Series(summary)\n",
    "ax = violation_counts.plot(kind='bar', figsize=(10, 6))\n",
    "plt.title('Summary of Rule Violations')\n",
    "plt.xlabel('Rules')\n",
    "plt.ylabel('Number of Violations')\n",
    "\n",
    "# Add percentage labels above the bars\n",
    "for p in ax.patches:\n",
    "    ax.annotate(f'{p.get_height() / len(dirty_iris) * 100:.1f}%', \n",
    "                (p.get_x() + p.get_width() / 2., p.get_height()), \n",
    "                ha='center', va='center', xytext=(0, 10), \n",
    "                textcoords='offset points')\n",
    "\n",
    "plt.show()"
   ]
  },
  {
   "cell_type": "markdown",
   "metadata": {},
   "source": [
    "Find out which observations have too long sepals using the result of violations."
   ]
  },
  {
   "cell_type": "code",
   "execution_count": 37,
   "metadata": {},
   "outputs": [
    {
     "name": "stdout",
     "output_type": "stream",
     "text": [
      "     Sepal.Length  Sepal.Width  Petal.Length  Petal.Width     Species\n",
      "14            NaN          3.9          1.70          0.4      setosa\n",
      "18            NaN          4.0           NaN          0.2      setosa\n",
      "24            NaN          3.0          5.90          2.1   virginica\n",
      "27           73.0         29.0         63.00          NaN   virginica\n",
      "29            NaN          2.8          0.82          1.3  versicolor\n",
      "57            NaN          2.9          4.50          1.5  versicolor\n",
      "67            NaN          3.2          5.70          2.3   virginica\n",
      "113           NaN          3.3          5.70          2.1   virginica\n",
      "118           NaN          3.0          5.50          2.1   virginica\n",
      "119           NaN          2.8          4.70          1.2  versicolor\n",
      "124          49.0         30.0         14.00          2.0      setosa\n",
      "137           NaN          3.0          4.90          1.8   virginica\n"
     ]
    }
   ],
   "source": [
    "# Check for rule violations\n",
    "violations = {rule: ~result for rule, result in rules.items()}\n",
    "# Combine violations into a DataFrame\n",
    "violated_df = pd.DataFrame(violations)\n",
    "violated_rows = dirty_iris[violated_df[\"Sepal.Length <= 30\"]]\n",
    "print(violated_rows)"
   ]
  },
  {
   "cell_type": "markdown",
   "metadata": {},
   "source": [
    "Find outliers in sepal length using boxplot approach. Retrieve the corresponding observations and look at the other values. Any ideas what might have happened? Set the outliers to NA (or a value that you find more appropiate)"
   ]
  },
  {
   "cell_type": "code",
   "execution_count": 38,
   "metadata": {},
   "outputs": [
    {
     "data": {
      "image/png": "[encoded data removed]",
      "text/plain": [
       "<Figure size 1000x600 with 1 Axes>"
      ]
     },
     "metadata": {},
     "output_type": "display_data"
    }
   ],
   "source": [
    "# Boxplot for Sepal.Length\n",
    "plt.figure(figsize=(10, 6))\n",
    "plt.boxplot(dirty_iris['Sepal.Length'].dropna())\n",
    "plt.title('Boxplot of Sepal Length')\n",
    "plt.ylabel('Sepal Length')\n",
    "plt.show()"
   ]
  },
  {
   "cell_type": "code",
   "execution_count": 39,
   "metadata": {},
   "outputs": [
    {
     "name": "stdout",
     "output_type": "stream",
     "text": [
      "Outliers:\n",
      "     Sepal.Length  Sepal.Width  Petal.Length  Petal.Width    Species\n",
      "27           73.0         29.0          63.0          NaN  virginica\n",
      "124          49.0         30.0          14.0          2.0     setosa\n"
     ]
    }
   ],
   "source": [
    "# Find outliers in Sepal.Length\n",
    "outliers = dirty_iris['Sepal.Length'][np.abs(dirty_iris['Sepal.Length'] - dirty_iris['Sepal.Length'].mean()) > (1.5 * dirty_iris['Sepal.Length'].std())]\n",
    "outliers_idx = dirty_iris.index[dirty_iris['Sepal.Length'].isin(outliers)]\n",
    "\n",
    "# Print the rows with outliers\n",
    "print(\"Outliers:\")\n",
    "print(dirty_iris.loc[outliers_idx])"
   ]
  },
  {
   "cell_type": "markdown",
   "metadata": {},
   "source": [
    "They all seem to be too big... may they were measured in mm i.o cm?"
   ]
  },
  {
   "cell_type": "code",
   "execution_count": 40,
   "metadata": {},
   "outputs": [
    {
     "name": "stdout",
     "output_type": "stream",
     "text": [
      "Summary of adjusted data:\n",
      "       Sepal.Length  Sepal.Width  Petal.Length  Petal.Width\n",
      "count    140.000000   133.000000    131.000000   137.000000\n",
      "mean       5.775000     2.991729      3.920954     1.194161\n",
      "std        0.969842     0.708075      2.455417     0.766463\n",
      "min        0.000000    -3.000000      0.000000     0.100000\n",
      "25%        5.100000     2.800000      1.600000     0.300000\n",
      "50%        5.700000     3.000000      4.400000     1.300000\n",
      "75%        6.400000     3.300000      5.100000     1.800000\n",
      "max        7.900000     4.200000     23.000000     2.500000\n"
     ]
    }
   ],
   "source": [
    "# Adjust the outliers (assuming they were measured in mm instead of cm)\n",
    "dirty_iris.loc[outliers_idx, ['Sepal.Length', 'Sepal.Width', 'Petal.Length', 'Petal.Width']] /= 10\n",
    "\n",
    "# Summary of the adjusted data\n",
    "print(\"Summary of adjusted data:\")\n",
    "print(dirty_iris.describe())"
   ]
  },
  {
   "cell_type": "markdown",
   "metadata": {},
   "source": [
    "\n",
    "Note that simple boxplot shows an extra outlier!"
   ]
  },
  {
   "cell_type": "code",
   "execution_count": 41,
   "metadata": {},
   "outputs": [
    {
     "data": {
      "image/png": "[encoded data removed]",
      "text/plain": [
       "<Figure size 1000x600 with 1 Axes>"
      ]
     },
     "metadata": {},
     "output_type": "display_data"
    }
   ],
   "source": [
    "import seaborn as sns\n",
    "plt.figure(figsize=(10, 6))\n",
    "sns.boxplot(x='Species', y='Sepal.Length', data=dirty_iris)\n",
    "plt.title('Boxplot of Sepal Length by Species')\n",
    "plt.xlabel('Species')\n",
    "plt.ylabel('Sepal Length')\n",
    "plt.show()"
   ]
  },
  {
   "cell_type": "markdown",
   "metadata": {},
   "source": [
    "## Correcting\n",
    "\n",
    "Replace non positive values from Sepal.Width with NA:"
   ]
  },
  {
   "cell_type": "code",
   "execution_count": 42,
   "metadata": {},
   "outputs": [
    {
     "name": "stdout",
     "output_type": "stream",
     "text": [
      "     Sepal.Length  Sepal.Width  Petal.Length  Petal.Width     Species\n",
      "0             6.4          3.2           4.5          1.5  versicolor\n",
      "1             6.3          3.3           6.0          2.5   virginica\n",
      "2             6.2          NaN           5.4          2.3   virginica\n",
      "3             5.0          3.4           1.6          0.4      setosa\n",
      "4             5.7          2.6           3.5          1.0  versicolor\n",
      "..            ...          ...           ...          ...         ...\n",
      "145           6.7          3.1           5.6          2.4   virginica\n",
      "146           5.6          3.0           4.5          1.5  versicolor\n",
      "147           5.2          3.5           1.5          0.2      setosa\n",
      "148           6.4          3.1           NaN          1.8   virginica\n",
      "149           5.8          2.6           4.0          NaN  versicolor\n",
      "\n",
      "[150 rows x 5 columns]\n"
     ]
    }
   ],
   "source": [
    "# Define the correction rule\n",
    "def correct_sepal_width(df):\n",
    "    df.loc[(~df['Sepal.Width'].isna()) & (df['Sepal.Width'] <= 0), 'Sepal.Width'] = np.nan\n",
    "    return df\n",
    "\n",
    "# Apply the correction rule to the dataframe\n",
    "mydata_corrected = correct_sepal_width(dirty_iris)\n",
    "\n",
    "# Print the corrected dataframe\n",
    "print(mydata_corrected)"
   ]
  },
  {
   "cell_type": "markdown",
   "metadata": {},
   "source": [
    "Replace all erroneous values with NA using (the result of) localizeErrors:"
   ]
  },
  {
   "cell_type": "code",
   "execution_count": 43,
   "metadata": {},
   "outputs": [],
   "source": [
    "# Apply the rules to the dataframe\n",
    "rules = check_rules(dirty_iris)\n",
    "violations = {rule: ~result for rule, result in rules.items()}\n",
    "violated_df = pd.DataFrame(violations)\n",
    "\n",
    "# Localize errors and set them to NA\n",
    "for col in violated_df.columns:\n",
    "    dirty_iris.loc[violated_df[col], col.split()[0]] = np.nan"
   ]
  },
  {
   "cell_type": "markdown",
   "metadata": {},
   "source": [
    "## Imputing NA's"
   ]
  },
  {
   "cell_type": "markdown",
   "metadata": {},
   "source": [
    "Imputation is the process of estimating or deriving values for fields where data is missing. There is a vast body of literature on imputation methods and it goes beyond the scope of this tutorial to discuss all of them.\n",
    "\n",
    "There is no one single best imputation method that works in all cases. The imputation model of choice depends on what auxiliary information is available and whether there are (multivariate) edit restrictions on the data to be imputed. The availability of R software for imputation under edit restrictions is, to our best knowledge, limited. However, a viable strategy for imputing numerical data is to first impute missing values without restrictions, and then minimally adjust the imputed values so that the restrictions are obeyed. Separately, these methods are available in R.\n",
    "\n",
    "We can mention several approaches to imputation:\n",
    "\n",
    "1.  For the **quantitative** variables:\n",
    "\n",
    "-   imputing by **mean**/**median**/**mode**\n",
    "\n",
    "-   **KNN** -- K-nearest-neighbors approach\n",
    "\n",
    "-   **RPART** -- random forests multivariate approach\n",
    "\n",
    "-   **mice** - Multivariate Imputation by Chained Equations approach\n",
    "\n",
    "2.  For the **qualitative** variables:\n",
    "\n",
    "-   imputing by **mode**\n",
    "\n",
    "-   **RPART** -- random forests multivariate approach\n",
    "\n",
    "-   **mice** - Multivariate Imputation by Chained Equations approach\n",
    "\n",
    "    ... and many others. Please read the theoretical background if you are interested in those techniques.\n",
    "\n"
   ]
  },
  {
   "cell_type": "markdown",
   "metadata": {},
   "source": [
    "***Exercise 1.*** Use ***kNN*** imputation ('sklearn' package) to impute all missing values. The KNNImputer from sklearn requires all data to be numeric. Since our dataset contains categorical data (e.g., the Species column), you need to handle these columns separately. One approach is to use one-hot encoding for categorical variables before applying the imputer."
   ]
  },
  {
   "cell_type": "code",
   "execution_count": 44,
   "metadata": {},
   "outputs": [
    {
     "name": "stdout",
     "output_type": "stream",
     "text": [
      "     Sepal.Length  Sepal.Width  Petal.Length  Petal.Width     Species\n",
      "0        6.400000     3.200000      4.500000     1.500000  versicolor\n",
      "1        6.300000     3.300000      6.000000     2.500000   virginica\n",
      "2        6.200000     3.033333      5.400000     2.300000   virginica\n",
      "3        5.000000     3.400000      1.600000     0.400000      setosa\n",
      "4        5.700000     2.600000      3.500000     1.000000  versicolor\n",
      "..            ...          ...           ...          ...         ...\n",
      "145      6.700000     3.100000      5.600000     2.400000   virginica\n",
      "146      5.600000     3.000000      4.500000     1.500000  versicolor\n",
      "147      5.200000     3.500000      1.500000     0.200000      setosa\n",
      "148      6.533333     3.100000      5.166667     1.800000   virginica\n",
      "149      5.800000     2.600000      3.833333     1.066667  versicolor\n",
      "\n",
      "[150 rows x 5 columns]\n"
     ]
    }
   ],
   "source": [
    "from sklearn.impute import KNNImputer\n",
    "from sklearn.preprocessing import OneHotEncoder\n",
    "# Replace infinite values with NaN\n",
    "dirty_iris.replace([np.inf, -np.inf], np.nan, inplace=True)\n",
    "\n",
    "# Separate numeric and categorical columns\n",
    "numeric_cols = dirty_iris.select_dtypes(include=[np.number]).columns\n",
    "categorical_cols = dirty_iris.select_dtypes(exclude=[np.number]).columns\n",
    "# One-hot encode categorical columns\n",
    "encoder = OneHotEncoder(sparse_output=False, handle_unknown='ignore')\n",
    "\n",
    "encoded_categorical = pd.DataFrame(encoder.fit_transform(dirty_iris[categorical_cols]), columns=encoder.get_feature_names_out(categorical_cols))\n",
    "\n",
    "# Combine numeric and encoded categorical columns\n",
    "combined_data = pd.concat([dirty_iris[numeric_cols], encoded_categorical], axis=1)\n",
    "\n",
    "# Initialize the KNNImputer\n",
    "imputer = KNNImputer(n_neighbors=3)\n",
    "\n",
    "# Perform kNN imputation\n",
    "imputed_data = imputer.fit_transform(combined_data)\n",
    "\n",
    "# Convert the imputed data back to a DataFrame\n",
    "imputed_df = pd.DataFrame(imputed_data, columns=combined_data.columns)\n",
    "\n",
    "# Decode the one-hot encoded columns back to original categorical columns\n",
    "decoded_categorical = pd.DataFrame(encoder.inverse_transform(imputed_df[encoded_categorical.columns]), columns=categorical_cols)\n",
    "\n",
    "# Combine numeric and decoded categorical columns\n",
    "final_imputed_data = pd.concat([imputed_df[numeric_cols], decoded_categorical], axis=1)\n",
    "\n",
    "# Print the imputed data\n",
    "print(final_imputed_data)"
   ]
  },
  {
   "cell_type": "markdown",
   "metadata": {},
   "source": [
    "## Transformations\n",
    "\n",
    "Finally, we sometimes encounter the situation where we have problems with skewed distributions or we just want to transform, recode or perform discretization. Let's review some of the most popular transformation methods.\n",
    "\n",
    "First, standardization (also known as normalization):\n",
    "\n",
    "-   **Z-score** approach - standardization procedure, using the formula: $z=\\frac{x-\\mu}{\\sigma}$ where $\\mu$ = mean and $\\sigma$ = standard deviation. Z-scores are also known as standardized scores; they are scores (or data values) that have been given a common *standard*. This standard is a mean of zero and a standard deviation of 1.\n",
    "\n",
    "-   **minmax** approach - An alternative approach to Z-score normalization (or standardization) is the so-called MinMax scaling (often also simply called \"normalization\" - a common cause for ambiguities). In this approach, the data is scaled to a fixed range - usually 0 to 1. The cost of having this bounded range - in contrast to standardization - is that we will end up with smaller standard deviations, which can suppress the effect of outliers. If you would like to perform MinMax scaling - simply substract minimum value and divide it by range:$(x-min)/(max-min)$\n",
    "\n",
    "In order to solve problems with very skewed distributions we can also use several types of simple transformations:\n",
    "\n",
    "-   log\n",
    "-   log+1\n",
    "-   sqrt\n",
    "-   x\\^2\n",
    "-   x\\^3"
   ]
  },
  {
   "cell_type": "markdown",
   "metadata": {},
   "source": [
    "***Exercise 2.*** Standardize incomes and present the transformed distribution of incomes on boxplot."
   ]
  },
  {
   "cell_type": "code",
   "execution_count": 45,
   "metadata": {},
   "outputs": [
    {
     "data": {
      "image/png": "[encoded data removed]",
      "text/plain": [
       "<Figure size 600x400 with 1 Axes>"
      ]
     },
     "metadata": {},
     "output_type": "display_data"
    }
   ],
   "source": [
    "mean_incomes = carseats['Income'].mean()\n",
    "std_incomes = carseats['Income'].std()\n",
    "\n",
    "carseats['StandarizedIncome'] = (carseats['Income'] - mean_incomes) / std_incomes\n",
    "\n",
    "plt.figure(figsize=(6, 4))\n",
    "sns.boxplot(data=carseats, y='StandarizedIncome')\n",
    "plt.title('Boxplot of Standardized Income')\n",
    "plt.ylabel('Standardized Income')\n",
    "plt.show()"
   ]
  },
  {
   "cell_type": "markdown",
   "metadata": {},
   "source": [
    "## Binning\n",
    "\n",
    "Sometimes we just would like to perform so called 'binning' procedure to be able to analyze our categorical data, to compare several categorical variables, to construct statistical models etc. Thanks to the 'binning' function we can transform quantitative variables into categorical using several methods:\n",
    "\n",
    "-   **quantile** - automatic binning by quantile of its distribution\n",
    "\n",
    "-   **equal** - binning to achieve fixed length of intervals\n",
    "\n",
    "-   **pretty** - a compromise between the 2 mentioned above\n",
    "\n",
    "-   **kmeans** - categorization using the K-Means algorithm\n",
    "\n",
    "-   **bclust** - categorization using the bagged clustering algorithm"
   ]
  },
  {
   "cell_type": "markdown",
   "metadata": {},
   "source": [
    "**Exercise 3.** Using quantile approach perform binning of the variable 'Income'."
   ]
  },
  {
   "cell_type": "code",
   "execution_count": 46,
   "metadata": {},
   "outputs": [
    {
     "data": {
      "text/html": [
       "<div>\n",
       "<style scoped>\n",
       "    .dataframe tbody tr th:only-of-type {\n",
       "        vertical-align: middle;\n",
       "    }\n",
       "\n",
       "    .dataframe tbody tr th {\n",
       "        vertical-align: top;\n",
       "    }\n",
       "\n",
       "    .dataframe thead th {\n",
       "        text-align: right;\n",
       "    }\n",
       "</style>\n",
       "<table border=\"1\" class=\"dataframe\">\n",
       "  <thead>\n",
       "    <tr style=\"text-align: right;\">\n",
       "      <th></th>\n",
       "      <th>Income</th>\n",
       "      <th>Income_bin</th>\n",
       "    </tr>\n",
       "  </thead>\n",
       "  <tbody>\n",
       "    <tr>\n",
       "      <th>0</th>\n",
       "      <td>73.0</td>\n",
       "      <td>Mid-High</td>\n",
       "    </tr>\n",
       "    <tr>\n",
       "      <th>1</th>\n",
       "      <td>48.0</td>\n",
       "      <td>Mid-Low</td>\n",
       "    </tr>\n",
       "    <tr>\n",
       "      <th>2</th>\n",
       "      <td>35.0</td>\n",
       "      <td>Low</td>\n",
       "    </tr>\n",
       "    <tr>\n",
       "      <th>3</th>\n",
       "      <td>100.0</td>\n",
       "      <td>High</td>\n",
       "    </tr>\n",
       "    <tr>\n",
       "      <th>4</th>\n",
       "      <td>64.0</td>\n",
       "      <td>Mid-Low</td>\n",
       "    </tr>\n",
       "    <tr>\n",
       "      <th>...</th>\n",
       "      <td>...</td>\n",
       "      <td>...</td>\n",
       "    </tr>\n",
       "    <tr>\n",
       "      <th>395</th>\n",
       "      <td>108.0</td>\n",
       "      <td>High</td>\n",
       "    </tr>\n",
       "    <tr>\n",
       "      <th>396</th>\n",
       "      <td>23.0</td>\n",
       "      <td>Low</td>\n",
       "    </tr>\n",
       "    <tr>\n",
       "      <th>397</th>\n",
       "      <td>26.0</td>\n",
       "      <td>Low</td>\n",
       "    </tr>\n",
       "    <tr>\n",
       "      <th>398</th>\n",
       "      <td>79.0</td>\n",
       "      <td>Mid-High</td>\n",
       "    </tr>\n",
       "    <tr>\n",
       "      <th>399</th>\n",
       "      <td>37.0</td>\n",
       "      <td>Low</td>\n",
       "    </tr>\n",
       "  </tbody>\n",
       "</table>\n",
       "<p>400 rows × 2 columns</p>\n",
       "</div>"
      ],
      "text/plain": [
       "     Income Income_bin\n",
       "0      73.0   Mid-High\n",
       "1      48.0    Mid-Low\n",
       "2      35.0        Low\n",
       "3     100.0       High\n",
       "4      64.0    Mid-Low\n",
       "..      ...        ...\n",
       "395   108.0       High\n",
       "396    23.0        Low\n",
       "397    26.0        Low\n",
       "398    79.0   Mid-High\n",
       "399    37.0        Low\n",
       "\n",
       "[400 rows x 2 columns]"
      ]
     },
     "execution_count": 46,
     "metadata": {},
     "output_type": "execute_result"
    }
   ],
   "source": [
    "carseats['Income_bin'] = pd.qcut(carseats['Income'], q=4, labels=['Low', 'Mid-Low', 'Mid-High', 'High'])\n",
    "\n",
    "carseats[['Income', 'Income_bin']]"
   ]
  },
  {
   "cell_type": "markdown",
   "metadata": {},
   "source": [
    "**Exercise 4.** Recode the original distribution of incomes using fixed length of intervals and assign them labels.\n"
   ]
  },
  {
   "cell_type": "code",
   "execution_count": 47,
   "metadata": {},
   "outputs": [
    {
     "data": {
      "text/html": [
       "<div>\n",
       "<style scoped>\n",
       "    .dataframe tbody tr th:only-of-type {\n",
       "        vertical-align: middle;\n",
       "    }\n",
       "\n",
       "    .dataframe tbody tr th {\n",
       "        vertical-align: top;\n",
       "    }\n",
       "\n",
       "    .dataframe thead th {\n",
       "        text-align: right;\n",
       "    }\n",
       "</style>\n",
       "<table border=\"1\" class=\"dataframe\">\n",
       "  <thead>\n",
       "    <tr style=\"text-align: right;\">\n",
       "      <th></th>\n",
       "      <th>Income</th>\n",
       "      <th>Income_bin_equal</th>\n",
       "    </tr>\n",
       "  </thead>\n",
       "  <tbody>\n",
       "    <tr>\n",
       "      <th>0</th>\n",
       "      <td>73.0</td>\n",
       "      <td>Mid</td>\n",
       "    </tr>\n",
       "    <tr>\n",
       "      <th>1</th>\n",
       "      <td>48.0</td>\n",
       "      <td>Low</td>\n",
       "    </tr>\n",
       "    <tr>\n",
       "      <th>2</th>\n",
       "      <td>35.0</td>\n",
       "      <td>Low</td>\n",
       "    </tr>\n",
       "    <tr>\n",
       "      <th>3</th>\n",
       "      <td>100.0</td>\n",
       "      <td>High</td>\n",
       "    </tr>\n",
       "    <tr>\n",
       "      <th>4</th>\n",
       "      <td>64.0</td>\n",
       "      <td>Mid</td>\n",
       "    </tr>\n",
       "    <tr>\n",
       "      <th>...</th>\n",
       "      <td>...</td>\n",
       "      <td>...</td>\n",
       "    </tr>\n",
       "    <tr>\n",
       "      <th>395</th>\n",
       "      <td>108.0</td>\n",
       "      <td>High</td>\n",
       "    </tr>\n",
       "    <tr>\n",
       "      <th>396</th>\n",
       "      <td>23.0</td>\n",
       "      <td>Low</td>\n",
       "    </tr>\n",
       "    <tr>\n",
       "      <th>397</th>\n",
       "      <td>26.0</td>\n",
       "      <td>Low</td>\n",
       "    </tr>\n",
       "    <tr>\n",
       "      <th>398</th>\n",
       "      <td>79.0</td>\n",
       "      <td>Mid</td>\n",
       "    </tr>\n",
       "    <tr>\n",
       "      <th>399</th>\n",
       "      <td>37.0</td>\n",
       "      <td>Low</td>\n",
       "    </tr>\n",
       "  </tbody>\n",
       "</table>\n",
       "<p>400 rows × 2 columns</p>\n",
       "</div>"
      ],
      "text/plain": [
       "     Income Income_bin_equal\n",
       "0      73.0              Mid\n",
       "1      48.0              Low\n",
       "2      35.0              Low\n",
       "3     100.0             High\n",
       "4      64.0              Mid\n",
       "..      ...              ...\n",
       "395   108.0             High\n",
       "396    23.0              Low\n",
       "397    26.0              Low\n",
       "398    79.0              Mid\n",
       "399    37.0              Low\n",
       "\n",
       "[400 rows x 2 columns]"
      ]
     },
     "execution_count": 47,
     "metadata": {},
     "output_type": "execute_result"
    }
   ],
   "source": [
    "# Equal\n",
    "carseats['Income_bin_equal'] = pd.cut(carseats['Income'], bins=3, labels=['Low', 'Mid', 'High'])\n",
    "\n",
    "carseats[['Income', 'Income_bin_equal']]\n"
   ]
  },
  {
   "cell_type": "markdown",
   "metadata": {},
   "source": [
    "In case of statistical modeling (i.e. credit scoring purposes) - we need to be aware of the fact, that the ***optimal*** discretization of the original distribution must be achieved. The '*binning_by*' function comes with some help here."
   ]
  },
  {
   "cell_type": "markdown",
   "metadata": {},
   "source": [
    "## Optimal binning with binary target"
   ]
  },
  {
   "cell_type": "markdown",
   "metadata": {},
   "source": [
    "**Exercise 5.** Perform discretization of the variable 'Advertising' using optimal binning."
   ]
  },
  {
   "cell_type": "code",
   "execution_count": 48,
   "metadata": {},
   "outputs": [],
   "source": [
    "from optbinning import OptimalBinning\n",
    "from sklearn.datasets import load_breast_cancer\n",
    "\n",
    "data = load_breast_cancer()\n",
    "df = pd.DataFrame(data.data, columns=data.feature_names)"
   ]
  },
  {
   "cell_type": "markdown",
   "metadata": {},
   "source": [
    "We choose a variable to discretize and the binary target."
   ]
  },
  {
   "cell_type": "code",
   "execution_count": 49,
   "metadata": {},
   "outputs": [],
   "source": [
    "variable = \"mean radius\"\n",
    "x = df[variable].values\n",
    "y = data.target"
   ]
  },
  {
   "cell_type": "markdown",
   "metadata": {},
   "source": [
    "Import and instantiate an OptimalBinning object class. We pass the variable name, its data type, and a solver, in this case, we choose the constraint programming solver."
   ]
  },
  {
   "cell_type": "code",
   "execution_count": 50,
   "metadata": {},
   "outputs": [],
   "source": [
    "optb = OptimalBinning(name=variable, dtype=\"numerical\", solver=\"cp\")"
   ]
  },
  {
   "cell_type": "markdown",
   "metadata": {},
   "source": [
    "We fit the optimal binning object with arrays x and y."
   ]
  },
  {
   "cell_type": "code",
   "execution_count": 51,
   "metadata": {},
   "outputs": [
    {
     "data": {
      "text/html": [
       "<style>#sk-container-id-1 {\n",
       "  /* Definition of color scheme common for light and dark mode */\n",
       "  --sklearn-color-text: #000;\n",
       "  --sklearn-color-text-muted: #666;\n",
       "  --sklearn-color-line: gray;\n",
       "  /* Definition of color scheme for unfitted estimators */\n",
       "  --sklearn-color-unfitted-level-0: #fff5e6;\n",
       "  --sklearn-color-unfitted-level-1: #f6e4d2;\n",
       "  --sklearn-color-unfitted-level-2: #ffe0b3;\n",
       "  --sklearn-color-unfitted-level-3: chocolate;\n",
       "  /* Definition of color scheme for fitted estimators */\n",
       "  --sklearn-color-fitted-level-0: #f0f8ff;\n",
       "  --sklearn-color-fitted-level-1: #d4ebff;\n",
       "  --sklearn-color-fitted-level-2: #b3dbfd;\n",
       "  --sklearn-color-fitted-level-3: cornflowerblue;\n",
       "\n",
       "  /* Specific color for light theme */\n",
       "  --sklearn-color-text-on-default-background: var(--sg-text-color, var(--theme-code-foreground, var(--jp-content-font-color1, black)));\n",
       "  --sklearn-color-background: var(--sg-background-color, var(--theme-background, var(--jp-layout-color0, white)));\n",
       "  --sklearn-color-border-box: var(--sg-text-color, var(--theme-code-foreground, var(--jp-content-font-color1, black)));\n",
       "  --sklearn-color-icon: #696969;\n",
       "\n",
       "  @media (prefers-color-scheme: dark) {\n",
       "    /* Redefinition of color scheme for dark theme */\n",
       "    --sklearn-color-text-on-default-background: var(--sg-text-color, var(--theme-code-foreground, var(--jp-content-font-color1, white)));\n",
       "    --sklearn-color-background: var(--sg-background-color, var(--theme-background, var(--jp-layout-color0, #111)));\n",
       "    --sklearn-color-border-box: var(--sg-text-color, var(--theme-code-foreground, var(--jp-content-font-color1, white)));\n",
       "    --sklearn-color-icon: #878787;\n",
       "  }\n",
       "}\n",
       "\n",
       "#sk-container-id-1 {\n",
       "  color: var(--sklearn-color-text);\n",
       "}\n",
       "\n",
       "#sk-container-id-1 pre {\n",
       "  padding: 0;\n",
       "}\n",
       "\n",
       "#sk-container-id-1 input.sk-hidden--visually {\n",
       "  border: 0;\n",
       "  clip: rect(1px 1px 1px 1px);\n",
       "  clip: rect(1px, 1px, 1px, 1px);\n",
       "  height: 1px;\n",
       "  margin: -1px;\n",
       "  overflow: hidden;\n",
       "  padding: 0;\n",
       "  position: absolute;\n",
       "  width: 1px;\n",
       "}\n",
       "\n",
       "#sk-container-id-1 div.sk-dashed-wrapped {\n",
       "  border: 1px dashed var(--sklearn-color-line);\n",
       "  margin: 0 0.4em 0.5em 0.4em;\n",
       "  box-sizing: border-box;\n",
       "  padding-bottom: 0.4em;\n",
       "  background-color: var(--sklearn-color-background);\n",
       "}\n",
       "\n",
       "#sk-container-id-1 div.sk-container {\n",
       "  /* jupyter's `normalize.less` sets `[hidden] { display: none; }`\n",
       "     but bootstrap.min.css set `[hidden] { display: none !important; }`\n",
       "     so we also need the `!important` here to be able to override the\n",
       "     default hidden behavior on the sphinx rendered scikit-learn.org.\n",
       "     See: https://github.com/scikit-learn/scikit-learn/issues/21755 */\n",
       "  display: inline-block !important;\n",
       "  position: relative;\n",
       "}\n",
       "\n",
       "#sk-container-id-1 div.sk-text-repr-fallback {\n",
       "  display: none;\n",
       "}\n",
       "\n",
       "div.sk-parallel-item,\n",
       "div.sk-serial,\n",
       "div.sk-item {\n",
       "  /* draw centered vertical line to link estimators */\n",
       "  background-image: linear-gradient(var(--sklearn-color-text-on-default-background), var(--sklearn-color-text-on-default-background));\n",
       "  background-size: 2px 100%;\n",
       "  background-repeat: no-repeat;\n",
       "  background-position: center center;\n",
       "}\n",
       "\n",
       "/* Parallel-specific style estimator block */\n",
       "\n",
       "#sk-container-id-1 div.sk-parallel-item::after {\n",
       "  content: \"\";\n",
       "  width: 100%;\n",
       "  border-bottom: 2px solid var(--sklearn-color-text-on-default-background);\n",
       "  flex-grow: 1;\n",
       "}\n",
       "\n",
       "#sk-container-id-1 div.sk-parallel {\n",
       "  display: flex;\n",
       "  align-items: stretch;\n",
       "  justify-content: center;\n",
       "  background-color: var(--sklearn-color-background);\n",
       "  position: relative;\n",
       "}\n",
       "\n",
       "#sk-container-id-1 div.sk-parallel-item {\n",
       "  display: flex;\n",
       "  flex-direction: column;\n",
       "}\n",
       "\n",
       "#sk-container-id-1 div.sk-parallel-item:first-child::after {\n",
       "  align-self: flex-end;\n",
       "  width: 50%;\n",
       "}\n",
       "\n",
       "#sk-container-id-1 div.sk-parallel-item:last-child::after {\n",
       "  align-self: flex-start;\n",
       "  width: 50%;\n",
       "}\n",
       "\n",
       "#sk-container-id-1 div.sk-parallel-item:only-child::after {\n",
       "  width: 0;\n",
       "}\n",
       "\n",
       "/* Serial-specific style estimator block */\n",
       "\n",
       "#sk-container-id-1 div.sk-serial {\n",
       "  display: flex;\n",
       "  flex-direction: column;\n",
       "  align-items: center;\n",
       "  background-color: var(--sklearn-color-background);\n",
       "  padding-right: 1em;\n",
       "  padding-left: 1em;\n",
       "}\n",
       "\n",
       "\n",
       "/* Toggleable style: style used for estimator/Pipeline/ColumnTransformer box that is\n",
       "clickable and can be expanded/collapsed.\n",
       "- Pipeline and ColumnTransformer use this feature and define the default style\n",
       "- Estimators will overwrite some part of the style using the `sk-estimator` class\n",
       "*/\n",
       "\n",
       "/* Pipeline and ColumnTransformer style (default) */\n",
       "\n",
       "#sk-container-id-1 div.sk-toggleable {\n",
       "  /* Default theme specific background. It is overwritten whether we have a\n",
       "  specific estimator or a Pipeline/ColumnTransformer */\n",
       "  background-color: var(--sklearn-color-background);\n",
       "}\n",
       "\n",
       "/* Toggleable label */\n",
       "#sk-container-id-1 label.sk-toggleable__label {\n",
       "  cursor: pointer;\n",
       "  display: flex;\n",
       "  width: 100%;\n",
       "  margin-bottom: 0;\n",
       "  padding: 0.5em;\n",
       "  box-sizing: border-box;\n",
       "  text-align: center;\n",
       "  align-items: start;\n",
       "  justify-content: space-between;\n",
       "  gap: 0.5em;\n",
       "}\n",
       "\n",
       "#sk-container-id-1 label.sk-toggleable__label .caption {\n",
       "  font-size: 0.6rem;\n",
       "  font-weight: lighter;\n",
       "  color: var(--sklearn-color-text-muted);\n",
       "}\n",
       "\n",
       "#sk-container-id-1 label.sk-toggleable__label-arrow:before {\n",
       "  /* Arrow on the left of the label */\n",
       "  content: \"▸\";\n",
       "  float: left;\n",
       "  margin-right: 0.25em;\n",
       "  color: var(--sklearn-color-icon);\n",
       "}\n",
       "\n",
       "#sk-container-id-1 label.sk-toggleable__label-arrow:hover:before {\n",
       "  color: var(--sklearn-color-text);\n",
       "}\n",
       "\n",
       "/* Toggleable content - dropdown */\n",
       "\n",
       "#sk-container-id-1 div.sk-toggleable__content {\n",
       "  max-height: 0;\n",
       "  max-width: 0;\n",
       "  overflow: hidden;\n",
       "  text-align: left;\n",
       "  /* unfitted */\n",
       "  background-color: var(--sklearn-color-unfitted-level-0);\n",
       "}\n",
       "\n",
       "#sk-container-id-1 div.sk-toggleable__content.fitted {\n",
       "  /* fitted */\n",
       "  background-color: var(--sklearn-color-fitted-level-0);\n",
       "}\n",
       "\n",
       "#sk-container-id-1 div.sk-toggleable__content pre {\n",
       "  margin: 0.2em;\n",
       "  border-radius: 0.25em;\n",
       "  color: var(--sklearn-color-text);\n",
       "  /* unfitted */\n",
       "  background-color: var(--sklearn-color-unfitted-level-0);\n",
       "}\n",
       "\n",
       "#sk-container-id-1 div.sk-toggleable__content.fitted pre {\n",
       "  /* unfitted */\n",
       "  background-color: var(--sklearn-color-fitted-level-0);\n",
       "}\n",
       "\n",
       "#sk-container-id-1 input.sk-toggleable__control:checked~div.sk-toggleable__content {\n",
       "  /* Expand drop-down */\n",
       "  max-height: 200px;\n",
       "  max-width: 100%;\n",
       "  overflow: auto;\n",
       "}\n",
       "\n",
       "#sk-container-id-1 input.sk-toggleable__control:checked~label.sk-toggleable__label-arrow:before {\n",
       "  content: \"▾\";\n",
       "}\n",
       "\n",
       "/* Pipeline/ColumnTransformer-specific style */\n",
       "\n",
       "#sk-container-id-1 div.sk-label input.sk-toggleable__control:checked~label.sk-toggleable__label {\n",
       "  color: var(--sklearn-color-text);\n",
       "  background-color: var(--sklearn-color-unfitted-level-2);\n",
       "}\n",
       "\n",
       "#sk-container-id-1 div.sk-label.fitted input.sk-toggleable__control:checked~label.sk-toggleable__label {\n",
       "  background-color: var(--sklearn-color-fitted-level-2);\n",
       "}\n",
       "\n",
       "/* Estimator-specific style */\n",
       "\n",
       "/* Colorize estimator box */\n",
       "#sk-container-id-1 div.sk-estimator input.sk-toggleable__control:checked~label.sk-toggleable__label {\n",
       "  /* unfitted */\n",
       "  background-color: var(--sklearn-color-unfitted-level-2);\n",
       "}\n",
       "\n",
       "#sk-container-id-1 div.sk-estimator.fitted input.sk-toggleable__control:checked~label.sk-toggleable__label {\n",
       "  /* fitted */\n",
       "  background-color: var(--sklearn-color-fitted-level-2);\n",
       "}\n",
       "\n",
       "#sk-container-id-1 div.sk-label label.sk-toggleable__label,\n",
       "#sk-container-id-1 div.sk-label label {\n",
       "  /* The background is the default theme color */\n",
       "  color: var(--sklearn-color-text-on-default-background);\n",
       "}\n",
       "\n",
       "/* On hover, darken the color of the background */\n",
       "#sk-container-id-1 div.sk-label:hover label.sk-toggleable__label {\n",
       "  color: var(--sklearn-color-text);\n",
       "  background-color: var(--sklearn-color-unfitted-level-2);\n",
       "}\n",
       "\n",
       "/* Label box, darken color on hover, fitted */\n",
       "#sk-container-id-1 div.sk-label.fitted:hover label.sk-toggleable__label.fitted {\n",
       "  color: var(--sklearn-color-text);\n",
       "  background-color: var(--sklearn-color-fitted-level-2);\n",
       "}\n",
       "\n",
       "/* Estimator label */\n",
       "\n",
       "#sk-container-id-1 div.sk-label label {\n",
       "  font-family: monospace;\n",
       "  font-weight: bold;\n",
       "  display: inline-block;\n",
       "  line-height: 1.2em;\n",
       "}\n",
       "\n",
       "#sk-container-id-1 div.sk-label-container {\n",
       "  text-align: center;\n",
       "}\n",
       "\n",
       "/* Estimator-specific */\n",
       "#sk-container-id-1 div.sk-estimator {\n",
       "  font-family: monospace;\n",
       "  border: 1px dotted var(--sklearn-color-border-box);\n",
       "  border-radius: 0.25em;\n",
       "  box-sizing: border-box;\n",
       "  margin-bottom: 0.5em;\n",
       "  /* unfitted */\n",
       "  background-color: var(--sklearn-color-unfitted-level-0);\n",
       "}\n",
       "\n",
       "#sk-container-id-1 div.sk-estimator.fitted {\n",
       "  /* fitted */\n",
       "  background-color: var(--sklearn-color-fitted-level-0);\n",
       "}\n",
       "\n",
       "/* on hover */\n",
       "#sk-container-id-1 div.sk-estimator:hover {\n",
       "  /* unfitted */\n",
       "  background-color: var(--sklearn-color-unfitted-level-2);\n",
       "}\n",
       "\n",
       "#sk-container-id-1 div.sk-estimator.fitted:hover {\n",
       "  /* fitted */\n",
       "  background-color: var(--sklearn-color-fitted-level-2);\n",
       "}\n",
       "\n",
       "/* Specification for estimator info (e.g. \"i\" and \"?\") */\n",
       "\n",
       "/* Common style for \"i\" and \"?\" */\n",
       "\n",
       ".sk-estimator-doc-link,\n",
       "a:link.sk-estimator-doc-link,\n",
       "a:visited.sk-estimator-doc-link {\n",
       "  float: right;\n",
       "  font-size: smaller;\n",
       "  line-height: 1em;\n",
       "  font-family: monospace;\n",
       "  background-color: var(--sklearn-color-background);\n",
       "  border-radius: 1em;\n",
       "  height: 1em;\n",
       "  width: 1em;\n",
       "  text-decoration: none !important;\n",
       "  margin-left: 0.5em;\n",
       "  text-align: center;\n",
       "  /* unfitted */\n",
       "  border: var(--sklearn-color-unfitted-level-1) 1pt solid;\n",
       "  color: var(--sklearn-color-unfitted-level-1);\n",
       "}\n",
       "\n",
       ".sk-estimator-doc-link.fitted,\n",
       "a:link.sk-estimator-doc-link.fitted,\n",
       "a:visited.sk-estimator-doc-link.fitted {\n",
       "  /* fitted */\n",
       "  border: var(--sklearn-color-fitted-level-1) 1pt solid;\n",
       "  color: var(--sklearn-color-fitted-level-1);\n",
       "}\n",
       "\n",
       "/* On hover */\n",
       "div.sk-estimator:hover .sk-estimator-doc-link:hover,\n",
       ".sk-estimator-doc-link:hover,\n",
       "div.sk-label-container:hover .sk-estimator-doc-link:hover,\n",
       ".sk-estimator-doc-link:hover {\n",
       "  /* unfitted */\n",
       "  background-color: var(--sklearn-color-unfitted-level-3);\n",
       "  color: var(--sklearn-color-background);\n",
       "  text-decoration: none;\n",
       "}\n",
       "\n",
       "div.sk-estimator.fitted:hover .sk-estimator-doc-link.fitted:hover,\n",
       ".sk-estimator-doc-link.fitted:hover,\n",
       "div.sk-label-container:hover .sk-estimator-doc-link.fitted:hover,\n",
       ".sk-estimator-doc-link.fitted:hover {\n",
       "  /* fitted */\n",
       "  background-color: var(--sklearn-color-fitted-level-3);\n",
       "  color: var(--sklearn-color-background);\n",
       "  text-decoration: none;\n",
       "}\n",
       "\n",
       "/* Span, style for the box shown on hovering the info icon */\n",
       ".sk-estimator-doc-link span {\n",
       "  display: none;\n",
       "  z-index: 9999;\n",
       "  position: relative;\n",
       "  font-weight: normal;\n",
       "  right: .2ex;\n",
       "  padding: .5ex;\n",
       "  margin: .5ex;\n",
       "  width: min-content;\n",
       "  min-width: 20ex;\n",
       "  max-width: 50ex;\n",
       "  color: var(--sklearn-color-text);\n",
       "  box-shadow: 2pt 2pt 4pt #999;\n",
       "  /* unfitted */\n",
       "  background: var(--sklearn-color-unfitted-level-0);\n",
       "  border: .5pt solid var(--sklearn-color-unfitted-level-3);\n",
       "}\n",
       "\n",
       ".sk-estimator-doc-link.fitted span {\n",
       "  /* fitted */\n",
       "  background: var(--sklearn-color-fitted-level-0);\n",
       "  border: var(--sklearn-color-fitted-level-3);\n",
       "}\n",
       "\n",
       ".sk-estimator-doc-link:hover span {\n",
       "  display: block;\n",
       "}\n",
       "\n",
       "/* \"?\"-specific style due to the `<a>` HTML tag */\n",
       "\n",
       "#sk-container-id-1 a.estimator_doc_link {\n",
       "  float: right;\n",
       "  font-size: 1rem;\n",
       "  line-height: 1em;\n",
       "  font-family: monospace;\n",
       "  background-color: var(--sklearn-color-background);\n",
       "  border-radius: 1rem;\n",
       "  height: 1rem;\n",
       "  width: 1rem;\n",
       "  text-decoration: none;\n",
       "  /* unfitted */\n",
       "  color: var(--sklearn-color-unfitted-level-1);\n",
       "  border: var(--sklearn-color-unfitted-level-1) 1pt solid;\n",
       "}\n",
       "\n",
       "#sk-container-id-1 a.estimator_doc_link.fitted {\n",
       "  /* fitted */\n",
       "  border: var(--sklearn-color-fitted-level-1) 1pt solid;\n",
       "  color: var(--sklearn-color-fitted-level-1);\n",
       "}\n",
       "\n",
       "/* On hover */\n",
       "#sk-container-id-1 a.estimator_doc_link:hover {\n",
       "  /* unfitted */\n",
       "  background-color: var(--sklearn-color-unfitted-level-3);\n",
       "  color: var(--sklearn-color-background);\n",
       "  text-decoration: none;\n",
       "}\n",
       "\n",
       "#sk-container-id-1 a.estimator_doc_link.fitted:hover {\n",
       "  /* fitted */\n",
       "  background-color: var(--sklearn-color-fitted-level-3);\n",
       "}\n",
       "</style><div id=\"sk-container-id-1\" class=\"sk-top-container\"><div class=\"sk-text-repr-fallback\"><pre>OptimalBinning(name=&#x27;mean radius&#x27;)</pre><b>In a Jupyter environment, please rerun this cell to show the HTML representation or trust the notebook. <br />On GitHub, the HTML representation is unable to render, please try loading this page with nbviewer.org.</b></div><div class=\"sk-container\" hidden><div class=\"sk-item\"><div class=\"sk-estimator  sk-toggleable\"><input class=\"sk-toggleable__control sk-hidden--visually\" id=\"sk-estimator-id-1\" type=\"checkbox\" checked><label for=\"sk-estimator-id-1\" class=\"sk-toggleable__label  sk-toggleable__label-arrow\"><div><div>OptimalBinning</div></div><div><span class=\"sk-estimator-doc-link \">i<span>Not fitted</span></span></div></label><div class=\"sk-toggleable__content \"><pre>OptimalBinning(name=&#x27;mean radius&#x27;)</pre></div> </div></div></div></div>"
      ],
      "text/plain": [
       "OptimalBinning(name='mean radius')"
      ]
     },
     "execution_count": 51,
     "metadata": {},
     "output_type": "execute_result"
    }
   ],
   "source": [
    "optb.fit(x, y)"
   ]
  },
  {
   "cell_type": "markdown",
   "metadata": {},
   "source": [
    "You can check if an optimal solution has been found via the status attribute:"
   ]
  },
  {
   "cell_type": "code",
   "execution_count": 52,
   "metadata": {},
   "outputs": [
    {
     "data": {
      "text/plain": [
       "'OPTIMAL'"
      ]
     },
     "execution_count": 52,
     "metadata": {},
     "output_type": "execute_result"
    }
   ],
   "source": [
    "optb.status"
   ]
  },
  {
   "cell_type": "markdown",
   "metadata": {},
   "source": [
    "You can also retrieve the optimal split points via the splits attribute:"
   ]
  },
  {
   "cell_type": "code",
   "execution_count": 53,
   "metadata": {},
   "outputs": [
    {
     "data": {
      "text/plain": [
       "array([11.42500019, 12.32999992, 13.09499979, 13.70499992, 15.04500008,\n",
       "       16.92500019])"
      ]
     },
     "execution_count": 53,
     "metadata": {},
     "output_type": "execute_result"
    }
   ],
   "source": [
    "optb.splits"
   ]
  },
  {
   "cell_type": "markdown",
   "metadata": {},
   "source": [
    "The binning table"
   ]
  },
  {
   "cell_type": "markdown",
   "metadata": {},
   "source": [
    "The optimal binning algorithms return a binning table; a binning table displays the binned data and several metrics for each bin. Class OptimalBinning returns an object BinningTable via the binning_table attribute."
   ]
  },
  {
   "cell_type": "code",
   "execution_count": 54,
   "metadata": {},
   "outputs": [
    {
     "data": {
      "text/plain": [
       "optbinning.binning.binning_statistics.BinningTable"
      ]
     },
     "execution_count": 54,
     "metadata": {},
     "output_type": "execute_result"
    }
   ],
   "source": [
    "binning_table = optb.binning_table\n",
    "\n",
    "type(binning_table)"
   ]
  },
  {
   "cell_type": "markdown",
   "metadata": {},
   "source": [
    "The binning_table is instantiated, but not built. Therefore, the first step is to call the method build, which returns a pandas.DataFrame."
   ]
  },
  {
   "cell_type": "code",
   "execution_count": 55,
   "metadata": {},
   "outputs": [
    {
     "data": {
      "text/html": [
       "<div>\n",
       "<style scoped>\n",
       "    .dataframe tbody tr th:only-of-type {\n",
       "        vertical-align: middle;\n",
       "    }\n",
       "\n",
       "    .dataframe tbody tr th {\n",
       "        vertical-align: top;\n",
       "    }\n",
       "\n",
       "    .dataframe thead th {\n",
       "        text-align: right;\n",
       "    }\n",
       "</style>\n",
       "<table border=\"1\" class=\"dataframe\">\n",
       "  <thead>\n",
       "    <tr style=\"text-align: right;\">\n",
       "      <th></th>\n",
       "      <th>Bin</th>\n",
       "      <th>Count</th>\n",
       "      <th>Count (%)</th>\n",
       "      <th>Non-event</th>\n",
       "      <th>Event</th>\n",
       "      <th>Event rate</th>\n",
       "      <th>WoE</th>\n",
       "      <th>IV</th>\n",
       "      <th>JS</th>\n",
       "    </tr>\n",
       "  </thead>\n",
       "  <tbody>\n",
       "    <tr>\n",
       "      <th>0</th>\n",
       "      <td>(-inf, 11.43)</td>\n",
       "      <td>118</td>\n",
       "      <td>0.207381</td>\n",
       "      <td>3</td>\n",
       "      <td>115</td>\n",
       "      <td>0.974576</td>\n",
       "      <td>-3.12517</td>\n",
       "      <td>0.962483</td>\n",
       "      <td>0.087205</td>\n",
       "    </tr>\n",
       "    <tr>\n",
       "      <th>1</th>\n",
       "      <td>[11.43, 12.33)</td>\n",
       "      <td>79</td>\n",
       "      <td>0.138840</td>\n",
       "      <td>3</td>\n",
       "      <td>76</td>\n",
       "      <td>0.962025</td>\n",
       "      <td>-2.710972</td>\n",
       "      <td>0.538763</td>\n",
       "      <td>0.052198</td>\n",
       "    </tr>\n",
       "    <tr>\n",
       "      <th>2</th>\n",
       "      <td>[12.33, 13.09)</td>\n",
       "      <td>68</td>\n",
       "      <td>0.119508</td>\n",
       "      <td>7</td>\n",
       "      <td>61</td>\n",
       "      <td>0.897059</td>\n",
       "      <td>-1.643814</td>\n",
       "      <td>0.226599</td>\n",
       "      <td>0.025513</td>\n",
       "    </tr>\n",
       "    <tr>\n",
       "      <th>3</th>\n",
       "      <td>[13.09, 13.70)</td>\n",
       "      <td>49</td>\n",
       "      <td>0.086116</td>\n",
       "      <td>10</td>\n",
       "      <td>39</td>\n",
       "      <td>0.795918</td>\n",
       "      <td>-0.839827</td>\n",
       "      <td>0.052131</td>\n",
       "      <td>0.006331</td>\n",
       "    </tr>\n",
       "    <tr>\n",
       "      <th>4</th>\n",
       "      <td>[13.70, 15.05)</td>\n",
       "      <td>83</td>\n",
       "      <td>0.145870</td>\n",
       "      <td>28</td>\n",
       "      <td>55</td>\n",
       "      <td>0.662651</td>\n",
       "      <td>-0.153979</td>\n",
       "      <td>0.003385</td>\n",
       "      <td>0.000423</td>\n",
       "    </tr>\n",
       "    <tr>\n",
       "      <th>5</th>\n",
       "      <td>[15.05, 16.93)</td>\n",
       "      <td>54</td>\n",
       "      <td>0.094903</td>\n",
       "      <td>44</td>\n",
       "      <td>10</td>\n",
       "      <td>0.185185</td>\n",
       "      <td>2.002754</td>\n",
       "      <td>0.359566</td>\n",
       "      <td>0.038678</td>\n",
       "    </tr>\n",
       "    <tr>\n",
       "      <th>6</th>\n",
       "      <td>[16.93, inf)</td>\n",
       "      <td>118</td>\n",
       "      <td>0.207381</td>\n",
       "      <td>117</td>\n",
       "      <td>1</td>\n",
       "      <td>0.008475</td>\n",
       "      <td>5.283323</td>\n",
       "      <td>2.900997</td>\n",
       "      <td>0.183436</td>\n",
       "    </tr>\n",
       "    <tr>\n",
       "      <th>7</th>\n",
       "      <td>Special</td>\n",
       "      <td>0</td>\n",
       "      <td>0.000000</td>\n",
       "      <td>0</td>\n",
       "      <td>0</td>\n",
       "      <td>0.000000</td>\n",
       "      <td>0.0</td>\n",
       "      <td>0.000000</td>\n",
       "      <td>0.000000</td>\n",
       "    </tr>\n",
       "    <tr>\n",
       "      <th>8</th>\n",
       "      <td>Missing</td>\n",
       "      <td>0</td>\n",
       "      <td>0.000000</td>\n",
       "      <td>0</td>\n",
       "      <td>0</td>\n",
       "      <td>0.000000</td>\n",
       "      <td>0.0</td>\n",
       "      <td>0.000000</td>\n",
       "      <td>0.000000</td>\n",
       "    </tr>\n",
       "    <tr>\n",
       "      <th>Totals</th>\n",
       "      <td></td>\n",
       "      <td>569</td>\n",
       "      <td>1.000000</td>\n",
       "      <td>212</td>\n",
       "      <td>357</td>\n",
       "      <td>0.627417</td>\n",
       "      <td></td>\n",
       "      <td>5.043925</td>\n",
       "      <td>0.393784</td>\n",
       "    </tr>\n",
       "  </tbody>\n",
       "</table>\n",
       "</div>"
      ],
      "text/plain": [
       "                   Bin  Count  Count (%)  Non-event  Event  Event rate  \\\n",
       "0        (-inf, 11.43)    118   0.207381          3    115    0.974576   \n",
       "1       [11.43, 12.33)     79   0.138840          3     76    0.962025   \n",
       "2       [12.33, 13.09)     68   0.119508          7     61    0.897059   \n",
       "3       [13.09, 13.70)     49   0.086116         10     39    0.795918   \n",
       "4       [13.70, 15.05)     83   0.145870         28     55    0.662651   \n",
       "5       [15.05, 16.93)     54   0.094903         44     10    0.185185   \n",
       "6         [16.93, inf)    118   0.207381        117      1    0.008475   \n",
       "7              Special      0   0.000000          0      0    0.000000   \n",
       "8              Missing      0   0.000000          0      0    0.000000   \n",
       "Totals                    569   1.000000        212    357    0.627417   \n",
       "\n",
       "             WoE        IV        JS  \n",
       "0       -3.12517  0.962483  0.087205  \n",
       "1      -2.710972  0.538763  0.052198  \n",
       "2      -1.643814  0.226599  0.025513  \n",
       "3      -0.839827  0.052131  0.006331  \n",
       "4      -0.153979  0.003385  0.000423  \n",
       "5       2.002754  0.359566  0.038678  \n",
       "6       5.283323  2.900997  0.183436  \n",
       "7            0.0  0.000000  0.000000  \n",
       "8            0.0  0.000000  0.000000  \n",
       "Totals            5.043925  0.393784  "
      ]
     },
     "execution_count": 55,
     "metadata": {},
     "output_type": "execute_result"
    }
   ],
   "source": [
    "binning_table.build()"
   ]
  },
  {
   "cell_type": "markdown",
   "metadata": {},
   "source": [
    "Let’s describe the columns of this binning table:\n",
    "\n",
    "Bin: the intervals delimited by the optimal split points.  \n",
    "Count: the number of records for each bin.  \n",
    "Count (%): the percentage of records for each bin.  \n",
    "Non-event: the number of non-event records (𝑦=0) for each bin.  \n",
    "Event: the number of event records (𝑦=1) for each bin.  \n",
    "Event rate: the percentage of event records for each bin.  \n",
    "WoE: the Weight-of-Evidence for each bin.  \n",
    "IV: the Information Value (also known as Jeffrey’s divergence) for each bin.  \n",
    "JS: the Jensen-Shannon divergence for each bin.  \n",
    "The last row shows the total number of records, non-event records, event records, and IV and JS.    \n",
    "\n",
    "You can use the method plot to visualize the histogram and WoE or event rate curve. Note that the Bin ID corresponds to the binning table index."
   ]
  },
  {
   "cell_type": "code",
   "execution_count": 56,
   "metadata": {},
   "outputs": [
    {
     "data": {
      "image/png": "[encoded data removed]",
      "text/plain": [
       "<Figure size 640x480 with 2 Axes>"
      ]
     },
     "metadata": {},
     "output_type": "display_data"
    }
   ],
   "source": [
    "binning_table.plot(metric=\"woe\")"
   ]
  },
  {
   "cell_type": "code",
   "execution_count": 57,
   "metadata": {},
   "outputs": [
    {
     "data": {
      "image/png": "[encoded data removed]",
      "text/plain": [
       "<Figure size 640x480 with 2 Axes>"
      ]
     },
     "metadata": {},
     "output_type": "display_data"
    }
   ],
   "source": [
    "binning_table.plot(metric=\"event_rate\")"
   ]
  },
  {
   "cell_type": "markdown",
   "metadata": {},
   "source": [
    "Note that WoE is inversely related to the event rate, i.e., a monotonically ascending event rate ensures a monotonically descending WoE and vice-versa. We will see more monotonic trend options in the advanced tutorial."
   ]
  },
  {
   "cell_type": "markdown",
   "metadata": {},
   "source": [
    "Read more here: [https://gnpalencia.org/optbinning/tutorials/tutorial_binary.html](https://gnpalencia.org/optbinning/tutorials/tutorial_binary.html)"
   ]
  },
  {
   "cell_type": "markdown",
   "metadata": {},
   "source": [
    "## Working with 'missingno' library"
   ]
  },
  {
   "cell_type": "markdown",
   "metadata": {},
   "source": [
    "<iframe width=\"560\" height=\"315\" src=\"https://www.youtube.com/embed/Wdvwer7h-8w?si=pVqCbOXb4CaCsmnJ\" title=\"YouTube video player\" frameborder=\"0\" allow=\"accelerometer; autoplay; clipboard-write; encrypted-media; gyroscope; picture-in-picture; web-share\" referrerpolicy=\"strict-origin-when-cross-origin\" allowfullscreen></iframe>"
   ]
  },
  {
   "cell_type": "markdown",
   "metadata": {},
   "source": [
    "**Exercise 6.** Your turn! \n",
    "\n",
    "Work with the 'carseats' dataset, find the best way to perform full diagnostic (dirty data, outliers, missing values). Fix problems."
   ]
  },
  {
   "cell_type": "code",
   "execution_count": 58,
   "metadata": {},
   "outputs": [
    {
     "data": {
      "text/plain": [
       "92.5"
      ]
     },
     "execution_count": 58,
     "metadata": {},
     "output_type": "execute_result"
    }
   ],
   "source": [
    "kompletne_cases=carseats.dropna().shape[0]\n",
    "procent_kompletnych=(kompletne_cases/carseats.shape[0])*100\n",
    "procent_kompletnych\n"
   ]
  },
  {
   "cell_type": "code",
   "execution_count": 59,
   "metadata": {},
   "outputs": [
    {
     "name": "stdout",
     "output_type": "stream",
     "text": [
      "             Sales   CompPrice      Income  Advertising  Population  \\\n",
      "count   400.000000  400.000000  380.000000   400.000000  400.000000   \n",
      "unique         NaN         NaN         NaN          NaN         NaN   \n",
      "top            NaN         NaN         NaN          NaN         NaN   \n",
      "freq           NaN         NaN         NaN          NaN         NaN   \n",
      "mean      7.496325  124.975000   68.660526     6.635000  264.840000   \n",
      "std       2.824115   15.334512   28.007218     6.650364  147.376436   \n",
      "min       0.000000   77.000000   21.000000     0.000000   10.000000   \n",
      "25%       5.390000  115.000000   42.000000     0.000000  139.000000   \n",
      "50%       7.490000  125.000000   69.000000     5.000000  272.000000   \n",
      "75%       9.320000  135.000000   90.250000    12.000000  398.500000   \n",
      "max      16.270000  175.000000  120.000000    29.000000  509.000000   \n",
      "\n",
      "             Price ShelveLoc         Age   Education Urban   US  \\\n",
      "count   400.000000       400  400.000000  400.000000   390  400   \n",
      "unique         NaN         3         NaN         NaN     2    2   \n",
      "top            NaN    Medium         NaN         NaN   Yes  Yes   \n",
      "freq           NaN       219         NaN         NaN   274  258   \n",
      "mean    115.795000       NaN   53.322500   13.900000   NaN  NaN   \n",
      "std      23.676664       NaN   16.200297    2.620528   NaN  NaN   \n",
      "min      24.000000       NaN   25.000000   10.000000   NaN  NaN   \n",
      "25%     100.000000       NaN   39.750000   12.000000   NaN  NaN   \n",
      "50%     117.000000       NaN   54.500000   14.000000   NaN  NaN   \n",
      "75%     131.000000       NaN   66.000000   16.000000   NaN  NaN   \n",
      "max     191.000000       NaN   80.000000   18.000000   NaN  NaN   \n",
      "\n",
      "        StandarizedIncome Income_bin Income_bin_equal  \n",
      "count        3.800000e+02        380              380  \n",
      "unique                NaN          4                3  \n",
      "top                   NaN    Mid-Low              Mid  \n",
      "freq                  NaN         99              146  \n",
      "mean         1.869849e-16        NaN              NaN  \n",
      "std          1.000000e+00        NaN              NaN  \n",
      "min         -1.701723e+00        NaN              NaN  \n",
      "25%         -9.519163e-01        NaN              NaN  \n",
      "50%          1.212094e-02        NaN              NaN  \n",
      "75%          7.708539e-01        NaN              NaN  \n",
      "max          1.833080e+00        NaN              NaN  \n"
     ]
    }
   ],
   "source": [
    "def czy_specjalna(x):\n",
    "    if np.issubdtype(x.dtype, np.number):\n",
    "        return ~np.isfinite(x)\n",
    "    else:\n",
    "        return pd.isna(x)\n",
    "    \n",
    "for col in carseats.columns:\n",
    "    carseats[col] = carseats[col].apply(lambda x: np.nan if czy_specjalna(pd.Series([x]))[0] else x)\n",
    "\n",
    "print(carseats.describe(include='all'))"
   ]
  },
  {
   "cell_type": "code",
   "execution_count": 60,
   "metadata": {},
   "outputs": [
    {
     "name": "stdout",
     "output_type": "stream",
     "text": [
      "Sales >= 0: True\n",
      "Income >= 0: False\n",
      "Advertising >= 0: True\n",
      "Population >= 0: True\n",
      "Price >= 0: True\n",
      "Age between 0 and 100: True\n",
      "Education >= 0: True\n",
      "ShelveLoc is valid: True\n",
      "Urban is Yes/No: False\n",
      "US is Yes/No: True\n"
     ]
    }
   ],
   "source": [
    "def sprawdz_zasady(df):\n",
    "    rules = {\n",
    "        \"Sales >= 0\": df[\"Sales\"] >= 0,\n",
    "        \"Income >= 0\": df[\"Income\"] >= 0,\n",
    "        \"Advertising >= 0\": df[\"Advertising\"] >= 0,\n",
    "        \"Population >= 0\": df[\"Population\"] >= 0,\n",
    "        \"Price >= 0\": df[\"Price\"] >= 0,\n",
    "        \"Age between 0 and 100\": df[\"Age\"].between(0, 100),\n",
    "        \"Education >= 0\": df[\"Education\"] >= 0,\n",
    "        \"ShelveLoc is valid\": df[\"ShelveLoc\"].isin([\"Bad\", \"Medium\", \"Good\"]),\n",
    "        \"Urban is Yes/No\": df[\"Urban\"].isin([\"Yes\", \"No\"]),\n",
    "        \"US is Yes/No\": df[\"US\"].isin([\"Yes\", \"No\"]),\n",
    "    }\n",
    "    return rules\n",
    "\n",
    "\n",
    "# Apply the rules to the dataframe\n",
    "rules1 = sprawdz_zasady(carseats)\n",
    "\n",
    "# Print the rules\n",
    "for rule, result in rules1.items():\n",
    "    print(f\"{rule}: {result.all()}\")"
   ]
  },
  {
   "cell_type": "code",
   "execution_count": 61,
   "metadata": {},
   "outputs": [
    {
     "data": {
      "image/png": "[encoded data removed]",
      "text/plain": [
       "<Figure size 1000x600 with 1 Axes>"
      ]
     },
     "metadata": {},
     "output_type": "display_data"
    }
   ],
   "source": [
    "plt.figure(figsize=(10, 6))\n",
    "plt.boxplot(carseats['Sales'].dropna())\n",
    "plt.title('Boxplot of Sales')\n",
    "plt.ylabel('Sales')\n",
    "plt.show()"
   ]
  },
  {
   "cell_type": "code",
   "execution_count": 62,
   "metadata": {},
   "outputs": [
    {
     "name": "stdout",
     "output_type": "stream",
     "text": [
      "Outliers:\n",
      "     Sales  CompPrice  Income  Advertising  Population  Price ShelveLoc  Age  \\\n",
      "7    11.85        136    81.0           15         425    120      Good   67   \n",
      "11   11.96        117    94.0            4         503     94      Good   50   \n",
      "17   12.29        147    74.0           13         251    131      Good   52   \n",
      "18   13.91        110   110.0            0         408     68      Good   46   \n",
      "21   12.13        134    29.0           12         239    109      Good   62   \n",
      "25   14.90        139    32.0            0         176     82      Good   54   \n",
      "28    2.99        103    74.0            0         359     97       Bad   55   \n",
      "30   13.55        125    94.0            0         447     89      Good   30   \n",
      "34    2.67        115    54.0            0         406    128    Medium   42   \n",
      "39    3.24        130    60.0            0         144    138       Bad   38   \n",
      "40    2.07        119    98.0            0          18    126       Bad   73   \n",
      "46   12.44        127    90.0           14          16     70    Medium   48   \n",
      "50    1.42         99    32.0           18         341    108       Bad   80   \n",
      "56   11.91        133    82.0            0          54     84    Medium   50   \n",
      "57    0.91         93    91.0            0          22    117       Bad   75   \n",
      "62    1.82        139    45.0            0         146    133       Bad   77   \n",
      "68   13.39        149    69.0           20         366    134      Good   60   \n",
      "73   12.61        118    90.0           10          54    104      Good   31   \n",
      "84    2.23        111    25.0            0          52    121       Bad   43   \n",
      "98   12.49        122    77.0           24         382    127      Good   36   \n",
      "106   0.16        102    33.0            0         217    139    Medium   70   \n",
      "139  12.30        146    62.0           10         310     94    Medium   30   \n",
      "143   0.53        122    88.0            7          36    159       Bad   28   \n",
      "158  12.53        142    90.0            1         189    112      Good   39   \n",
      "161   2.93        143    21.0            5          81    160    Medium   67   \n",
      "165   0.37        147    58.0            7         100    191       Bad   27   \n",
      "171  12.49         93   106.0           12         416     55    Medium   75   \n",
      "174   0.00        139    24.0            0         358    185    Medium   79   \n",
      "189  12.11        118   117.0           18         509    104    Medium   26   \n",
      "193  13.28        139    70.0            7          71     96      Good   61   \n",
      "197   2.52        124    61.0            0         333    138    Medium   76   \n",
      "203   2.05        131    82.0            0         132    157       Bad   25   \n",
      "209   3.02         98    21.0           11         326     90       Bad   76   \n",
      "212  12.04        145    69.0           19         501    105    Medium   45   \n",
      "215   2.34        116    83.0           15         170    144       Bad   71   \n",
      "232  13.14        137    80.0           10          24    105      Good   61   \n",
      "241  12.01        136    63.0            0         160     94    Medium   38   \n",
      "270  11.99        119    26.0            0         284     89      Good   26   \n",
      "272  12.98        113    33.0            0          14     63      Good   38   \n",
      "280   2.86        121    86.0           10         496    145       Bad   51   \n",
      "292  11.82        113    66.0           16         322     74      Good   76   \n",
      "294  12.66        148    76.0            3         126     99      Good   60   \n",
      "297   3.07        118    83.0           13         276    104       Bad   75   \n",
      "304  11.93        123    98.0           12         408    134      Good   29   \n",
      "316  15.63        122    36.0            5         369     72      Good   35   \n",
      "324   2.66        136    65.0            4         133    150       Bad   53   \n",
      "328   3.15        117    66.0            1          65    111       Bad   55   \n",
      "348  12.57        132   102.0           20         459    107      Good   49   \n",
      "352  13.44        133   103.0           14         288    122      Good   61   \n",
      "357  13.36        103    73.0            3         276     72    Medium   34   \n",
      "359   3.13        130    62.0           11         396    130       Bad   66   \n",
      "367  14.37         95   106.0            0         256     53      Good   52   \n",
      "376  16.27        141    60.0           19         319     92      Good   44   \n",
      "384  12.85        123    37.0           15         348    112      Good   28   \n",
      "395  12.57        138   108.0           17         203    128      Good   33   \n",
      "\n",
      "     Education Urban   US  StandarizedIncome Income_bin Income_bin_equal  \n",
      "7           10   Yes  Yes           0.440582   Mid-High              Mid  \n",
      "11          13   Yes  Yes           0.904748       High             High  \n",
      "17          10   Yes  Yes           0.190646   Mid-High              Mid  \n",
      "18          17   NaN  Yes           1.476029       High             High  \n",
      "21          18    No  Yes          -1.416082        Low              Low  \n",
      "25          11    No   No          -1.308967        Low              Low  \n",
      "28          11   Yes  Yes           0.190646   Mid-High              Mid  \n",
      "30          12   Yes   No           0.904748       High             High  \n",
      "34          17   Yes  Yes          -0.523455    Mid-Low              Low  \n",
      "39          10    No   No          -0.309225    Mid-Low              Mid  \n",
      "40          17    No   No           1.047568       High             High  \n",
      "46          15    No  Yes           0.761928   Mid-High             High  \n",
      "50          16   Yes  Yes          -1.308967        Low              Low  \n",
      "56          17   Yes   No           0.476287   Mid-High              Mid  \n",
      "57          11   Yes   No           0.797633       High             High  \n",
      "62          17   Yes  Yes          -0.844801    Mid-Low              Low  \n",
      "68          13   Yes  Yes           0.012121    Mid-Low              Mid  \n",
      "73          11    No  Yes           0.761928   Mid-High             High  \n",
      "84          18    No   No          -1.558903        Low              Low  \n",
      "98          16    No  Yes           0.297762   Mid-High              Mid  \n",
      "106         18    No   No          -1.273262        Low              Low  \n",
      "139         13    No  Yes          -0.237815    Mid-Low              Mid  \n",
      "143         17   Yes  Yes           0.690517   Mid-High             High  \n",
      "158         10    No  Yes           0.761928   Mid-High             High  \n",
      "161         12    No  Yes          -1.701723        Low              Low  \n",
      "165         15   Yes  Yes          -0.380635    Mid-Low              Mid  \n",
      "171         15   Yes  Yes           1.333209       High             High  \n",
      "174         15    No   No          -1.594608        Low              Low  \n",
      "189         15    No  Yes           1.725965       High             High  \n",
      "193         10   Yes  Yes           0.047826   Mid-High              Mid  \n",
      "197         16   Yes   No          -0.273520    Mid-Low              Mid  \n",
      "203         14   Yes   No           0.476287   Mid-High              Mid  \n",
      "209         11    No  Yes          -1.701723        Low              Low  \n",
      "212         11   Yes  Yes           0.012121    Mid-Low              Mid  \n",
      "215         11   Yes  Yes           0.511992   Mid-High              Mid  \n",
      "232         15   Yes  Yes           0.404877   Mid-High              Mid  \n",
      "241         12   Yes   No          -0.202110    Mid-Low              Mid  \n",
      "270         10   Yes   No          -1.523198        Low              Low  \n",
      "272         12   Yes   No          -1.273262        Low              Low  \n",
      "280         10   Yes  Yes           0.619107   Mid-High              Mid  \n",
      "292         15   Yes  Yes          -0.094994    Mid-Low              Mid  \n",
      "294         11   Yes  Yes           0.262057   Mid-High              Mid  \n",
      "297         10   Yes  Yes           0.511992   Mid-High              Mid  \n",
      "304         10   NaN  Yes           1.047568       High             High  \n",
      "316         10   Yes  Yes          -1.166147        Low              Low  \n",
      "324         13   Yes  Yes          -0.130699    Mid-Low              Mid  \n",
      "328         11   Yes  Yes          -0.094994    Mid-Low              Mid  \n",
      "348         11   Yes  Yes           1.190389       High             High  \n",
      "352         17   Yes  Yes           1.226094       High             High  \n",
      "357         15   Yes  Yes           0.154941   Mid-High              Mid  \n",
      "359         14   Yes  Yes          -0.237815    Mid-Low              Mid  \n",
      "367         17   Yes   No           1.333209       High             High  \n",
      "376         11   Yes  Yes          -0.309225    Mid-Low              Mid  \n",
      "384         12   Yes  Yes          -1.130442        Low              Low  \n",
      "395         14   Yes  Yes           1.404619       High             High  \n"
     ]
    }
   ],
   "source": [
    "outliers1 = carseats['Sales'][np.abs(carseats['Sales'] - carseats['Sales'].mean()) > (1.5 * carseats['Sales'].std())]\n",
    "outliers_idx1 = carseats.index[carseats['Sales'].isin(outliers1)]\n",
    "\n",
    "# Print the rows with outliers\n",
    "print(\"Outliers:\")\n",
    "print(carseats.loc[outliers_idx1])"
   ]
  },
  {
   "cell_type": "code",
   "execution_count": 63,
   "metadata": {},
   "outputs": [
    {
     "name": "stdout",
     "output_type": "stream",
     "text": [
      "55\n"
     ]
    }
   ],
   "source": [
    "carseats.loc[outliers_idx1, 'Sales'] = np.nan\n",
    "print(carseats['Sales'].isna().sum())\n",
    "\n"
   ]
  },
  {
   "cell_type": "code",
   "execution_count": 64,
   "metadata": {},
   "outputs": [
    {
     "data": {
      "text/html": [
       "<div>\n",
       "<style scoped>\n",
       "    .dataframe tbody tr th:only-of-type {\n",
       "        vertical-align: middle;\n",
       "    }\n",
       "\n",
       "    .dataframe tbody tr th {\n",
       "        vertical-align: top;\n",
       "    }\n",
       "\n",
       "    .dataframe thead th {\n",
       "        text-align: right;\n",
       "    }\n",
       "</style>\n",
       "<table border=\"1\" class=\"dataframe\">\n",
       "  <thead>\n",
       "    <tr style=\"text-align: right;\">\n",
       "      <th></th>\n",
       "      <th>Sales</th>\n",
       "      <th>CompPrice</th>\n",
       "      <th>Income</th>\n",
       "      <th>Advertising</th>\n",
       "      <th>Population</th>\n",
       "      <th>Price</th>\n",
       "      <th>ShelveLoc</th>\n",
       "      <th>Age</th>\n",
       "      <th>Education</th>\n",
       "      <th>Urban</th>\n",
       "      <th>US</th>\n",
       "      <th>StandarizedIncome</th>\n",
       "      <th>Income_bin</th>\n",
       "      <th>Income_bin_equal</th>\n",
       "    </tr>\n",
       "  </thead>\n",
       "  <tbody>\n",
       "  </tbody>\n",
       "</table>\n",
       "</div>"
      ],
      "text/plain": [
       "Empty DataFrame\n",
       "Columns: [Sales, CompPrice, Income, Advertising, Population, Price, ShelveLoc, Age, Education, Urban, US, StandarizedIncome, Income_bin, Income_bin_equal]\n",
       "Index: []"
      ]
     },
     "execution_count": 64,
     "metadata": {},
     "output_type": "execute_result"
    }
   ],
   "source": [
    "carseats[carseats['Income'] < 0]\n"
   ]
  },
  {
   "cell_type": "code",
   "execution_count": 65,
   "metadata": {},
   "outputs": [
    {
     "data": {
      "text/html": [
       "<div>\n",
       "<style scoped>\n",
       "    .dataframe tbody tr th:only-of-type {\n",
       "        vertical-align: middle;\n",
       "    }\n",
       "\n",
       "    .dataframe tbody tr th {\n",
       "        vertical-align: top;\n",
       "    }\n",
       "\n",
       "    .dataframe thead th {\n",
       "        text-align: right;\n",
       "    }\n",
       "</style>\n",
       "<table border=\"1\" class=\"dataframe\">\n",
       "  <thead>\n",
       "    <tr style=\"text-align: right;\">\n",
       "      <th></th>\n",
       "      <th>Sales</th>\n",
       "      <th>CompPrice</th>\n",
       "      <th>Income</th>\n",
       "      <th>Advertising</th>\n",
       "      <th>Population</th>\n",
       "      <th>Price</th>\n",
       "      <th>ShelveLoc</th>\n",
       "      <th>Age</th>\n",
       "      <th>Education</th>\n",
       "      <th>Urban</th>\n",
       "      <th>US</th>\n",
       "      <th>StandarizedIncome</th>\n",
       "      <th>Income_bin</th>\n",
       "      <th>Income_bin_equal</th>\n",
       "    </tr>\n",
       "  </thead>\n",
       "  <tbody>\n",
       "    <tr>\n",
       "      <th>18</th>\n",
       "      <td>NaN</td>\n",
       "      <td>110</td>\n",
       "      <td>110.0</td>\n",
       "      <td>0</td>\n",
       "      <td>408</td>\n",
       "      <td>68</td>\n",
       "      <td>Good</td>\n",
       "      <td>46</td>\n",
       "      <td>17</td>\n",
       "      <td>NaN</td>\n",
       "      <td>Yes</td>\n",
       "      <td>1.476029</td>\n",
       "      <td>High</td>\n",
       "      <td>High</td>\n",
       "    </tr>\n",
       "    <tr>\n",
       "      <th>37</th>\n",
       "      <td>4.95</td>\n",
       "      <td>121</td>\n",
       "      <td>41.0</td>\n",
       "      <td>5</td>\n",
       "      <td>412</td>\n",
       "      <td>110</td>\n",
       "      <td>Medium</td>\n",
       "      <td>54</td>\n",
       "      <td>10</td>\n",
       "      <td>NaN</td>\n",
       "      <td>Yes</td>\n",
       "      <td>-0.987621</td>\n",
       "      <td>Low</td>\n",
       "      <td>Low</td>\n",
       "    </tr>\n",
       "    <tr>\n",
       "      <th>112</th>\n",
       "      <td>6.67</td>\n",
       "      <td>116</td>\n",
       "      <td>99.0</td>\n",
       "      <td>5</td>\n",
       "      <td>298</td>\n",
       "      <td>125</td>\n",
       "      <td>Good</td>\n",
       "      <td>62</td>\n",
       "      <td>12</td>\n",
       "      <td>NaN</td>\n",
       "      <td>Yes</td>\n",
       "      <td>1.083273</td>\n",
       "      <td>High</td>\n",
       "      <td>High</td>\n",
       "    </tr>\n",
       "    <tr>\n",
       "      <th>168</th>\n",
       "      <td>7.30</td>\n",
       "      <td>129</td>\n",
       "      <td>89.0</td>\n",
       "      <td>0</td>\n",
       "      <td>425</td>\n",
       "      <td>117</td>\n",
       "      <td>Medium</td>\n",
       "      <td>45</td>\n",
       "      <td>10</td>\n",
       "      <td>NaN</td>\n",
       "      <td>No</td>\n",
       "      <td>0.726223</td>\n",
       "      <td>Mid-High</td>\n",
       "      <td>High</td>\n",
       "    </tr>\n",
       "    <tr>\n",
       "      <th>183</th>\n",
       "      <td>5.32</td>\n",
       "      <td>118</td>\n",
       "      <td>74.0</td>\n",
       "      <td>6</td>\n",
       "      <td>426</td>\n",
       "      <td>102</td>\n",
       "      <td>Medium</td>\n",
       "      <td>80</td>\n",
       "      <td>18</td>\n",
       "      <td>NaN</td>\n",
       "      <td>Yes</td>\n",
       "      <td>0.190646</td>\n",
       "      <td>Mid-High</td>\n",
       "      <td>Mid</td>\n",
       "    </tr>\n",
       "    <tr>\n",
       "      <th>208</th>\n",
       "      <td>7.78</td>\n",
       "      <td>86</td>\n",
       "      <td>54.0</td>\n",
       "      <td>0</td>\n",
       "      <td>497</td>\n",
       "      <td>64</td>\n",
       "      <td>Bad</td>\n",
       "      <td>33</td>\n",
       "      <td>12</td>\n",
       "      <td>NaN</td>\n",
       "      <td>No</td>\n",
       "      <td>-0.523455</td>\n",
       "      <td>Mid-Low</td>\n",
       "      <td>Low</td>\n",
       "    </tr>\n",
       "    <tr>\n",
       "      <th>278</th>\n",
       "      <td>7.22</td>\n",
       "      <td>114</td>\n",
       "      <td>113.0</td>\n",
       "      <td>2</td>\n",
       "      <td>129</td>\n",
       "      <td>151</td>\n",
       "      <td>Good</td>\n",
       "      <td>40</td>\n",
       "      <td>15</td>\n",
       "      <td>NaN</td>\n",
       "      <td>Yes</td>\n",
       "      <td>1.583145</td>\n",
       "      <td>High</td>\n",
       "      <td>High</td>\n",
       "    </tr>\n",
       "    <tr>\n",
       "      <th>304</th>\n",
       "      <td>NaN</td>\n",
       "      <td>123</td>\n",
       "      <td>98.0</td>\n",
       "      <td>12</td>\n",
       "      <td>408</td>\n",
       "      <td>134</td>\n",
       "      <td>Good</td>\n",
       "      <td>29</td>\n",
       "      <td>10</td>\n",
       "      <td>NaN</td>\n",
       "      <td>Yes</td>\n",
       "      <td>1.047568</td>\n",
       "      <td>High</td>\n",
       "      <td>High</td>\n",
       "    </tr>\n",
       "    <tr>\n",
       "      <th>315</th>\n",
       "      <td>6.39</td>\n",
       "      <td>131</td>\n",
       "      <td>21.0</td>\n",
       "      <td>8</td>\n",
       "      <td>220</td>\n",
       "      <td>171</td>\n",
       "      <td>Good</td>\n",
       "      <td>29</td>\n",
       "      <td>14</td>\n",
       "      <td>NaN</td>\n",
       "      <td>Yes</td>\n",
       "      <td>-1.701723</td>\n",
       "      <td>Low</td>\n",
       "      <td>Low</td>\n",
       "    </tr>\n",
       "    <tr>\n",
       "      <th>356</th>\n",
       "      <td>3.58</td>\n",
       "      <td>142</td>\n",
       "      <td>109.0</td>\n",
       "      <td>0</td>\n",
       "      <td>111</td>\n",
       "      <td>164</td>\n",
       "      <td>Good</td>\n",
       "      <td>72</td>\n",
       "      <td>12</td>\n",
       "      <td>NaN</td>\n",
       "      <td>No</td>\n",
       "      <td>1.440324</td>\n",
       "      <td>High</td>\n",
       "      <td>High</td>\n",
       "    </tr>\n",
       "  </tbody>\n",
       "</table>\n",
       "</div>"
      ],
      "text/plain": [
       "     Sales  CompPrice  Income  Advertising  Population  Price ShelveLoc  Age  \\\n",
       "18     NaN        110   110.0            0         408     68      Good   46   \n",
       "37    4.95        121    41.0            5         412    110    Medium   54   \n",
       "112   6.67        116    99.0            5         298    125      Good   62   \n",
       "168   7.30        129    89.0            0         425    117    Medium   45   \n",
       "183   5.32        118    74.0            6         426    102    Medium   80   \n",
       "208   7.78         86    54.0            0         497     64       Bad   33   \n",
       "278   7.22        114   113.0            2         129    151      Good   40   \n",
       "304    NaN        123    98.0           12         408    134      Good   29   \n",
       "315   6.39        131    21.0            8         220    171      Good   29   \n",
       "356   3.58        142   109.0            0         111    164      Good   72   \n",
       "\n",
       "     Education Urban   US  StandarizedIncome Income_bin Income_bin_equal  \n",
       "18          17   NaN  Yes           1.476029       High             High  \n",
       "37          10   NaN  Yes          -0.987621        Low              Low  \n",
       "112         12   NaN  Yes           1.083273       High             High  \n",
       "168         10   NaN   No           0.726223   Mid-High             High  \n",
       "183         18   NaN  Yes           0.190646   Mid-High              Mid  \n",
       "208         12   NaN   No          -0.523455    Mid-Low              Low  \n",
       "278         15   NaN  Yes           1.583145       High             High  \n",
       "304         10   NaN  Yes           1.047568       High             High  \n",
       "315         14   NaN  Yes          -1.701723        Low              Low  \n",
       "356         12   NaN   No           1.440324       High             High  "
      ]
     },
     "execution_count": 65,
     "metadata": {},
     "output_type": "execute_result"
    }
   ],
   "source": [
    "carseats[~carseats['Urban'].isin(['Yes', 'No'])]\n"
   ]
  },
  {
   "cell_type": "code",
   "execution_count": 66,
   "metadata": {},
   "outputs": [
    {
     "data": {
      "image/png": "[encoded data removed]",
      "text/plain": [
       "<Figure size 1000x400 with 1 Axes>"
      ]
     },
     "metadata": {},
     "output_type": "display_data"
    },
    {
     "data": {
      "image/png": "[encoded data removed]",
      "text/plain": [
       "<Figure size 1000x400 with 1 Axes>"
      ]
     },
     "metadata": {},
     "output_type": "display_data"
    },
    {
     "data": {
      "image/png": "[encoded data removed]",
      "text/plain": [
       "<Figure size 1000x400 with 1 Axes>"
      ]
     },
     "metadata": {},
     "output_type": "display_data"
    },
    {
     "data": {
      "image/png": "[encoded data removed]",
      "text/plain": [
       "<Figure size 1000x400 with 1 Axes>"
      ]
     },
     "metadata": {},
     "output_type": "display_data"
    },
    {
     "data": {
      "image/png": "[encoded data removed]",
      "text/plain": [
       "<Figure size 1000x400 with 1 Axes>"
      ]
     },
     "metadata": {},
     "output_type": "display_data"
    },
    {
     "data": {
      "image/png": "[encoded data removed]",
      "text/plain": [
       "<Figure size 1000x400 with 1 Axes>"
      ]
     },
     "metadata": {},
     "output_type": "display_data"
    },
    {
     "data": {
      "image/png": "[encoded data removed]",
      "text/plain": [
       "<Figure size 1000x400 with 1 Axes>"
      ]
     },
     "metadata": {},
     "output_type": "display_data"
    }
   ],
   "source": [
    "for col in ['Income', 'Advertising', 'Population', 'Price', 'CompPrice', 'Age', 'Education']:\n",
    "    plt.figure(figsize=(10, 4))\n",
    "    plt.boxplot(carseats[col].dropna())\n",
    "    plt.title(f'Boxplot of {col}')\n",
    "    plt.ylabel(col)\n",
    "    plt.show()"
   ]
  },
  {
   "cell_type": "code",
   "execution_count": 67,
   "metadata": {},
   "outputs": [
    {
     "name": "stdout",
     "output_type": "stream",
     "text": [
      "Outliers in Price:\n",
      "     Sales  CompPrice  Income  Advertising  Population  Price ShelveLoc  Age  \\\n",
      "2    10.06        113    35.0           10         269     80    Medium   59   \n",
      "5    10.81        124   113.0           13         501     72       Bad   78   \n",
      "18     NaN        110   110.0            0         408     68      Good   46   \n",
      "42   10.43         77     NaN            0          25     24    Medium   50   \n",
      "46     NaN        127    90.0           14          16     70    Medium   48   \n",
      "55    6.85        143    81.0            5          60    154    Medium   61   \n",
      "76   10.64        102    87.0           10         346     70    Medium   64   \n",
      "80    8.01        113   100.0           16         353     79       Bad   68   \n",
      "123   8.19        127   103.0            0         125    155      Good   29   \n",
      "125   9.34         89    78.0            0         181     49    Medium   43   \n",
      "130   8.41         94    84.0           13         497     77    Medium   51   \n",
      "143    NaN        122    88.0            7          36    159       Bad   28   \n",
      "155   7.71         98     NaN            0          59     69    Medium   65   \n",
      "156   7.49        146    34.0            0         220    157      Good   51   \n",
      "159   9.32        119    60.0            0         372     70       Bad   30   \n",
      "161    NaN        143    21.0            5          81    160    Medium   67   \n",
      "165    NaN        147    58.0            7         100    191       Bad   27   \n",
      "169  11.48        104    41.0           15         492     77      Good   73   \n",
      "171    NaN         93   106.0           12         416     55    Medium   75   \n",
      "174    NaN        139    24.0            0         358    185    Medium   79   \n",
      "176   5.61        138   107.0            9         480    154    Medium   47   \n",
      "191   6.67        156    42.0           13         170    173      Good   74   \n",
      "203    NaN        131    82.0            0         132    157       Bad   25   \n",
      "206   4.97        162    67.0            0          27    160    Medium   77   \n",
      "208   7.78         86    54.0            0         497     64       Bad   33   \n",
      "228   5.40        149    73.0           13         381    163       Bad   26   \n",
      "229  11.19         98   104.0            0         404     72    Medium   27   \n",
      "250   9.16        137   105.0           10         435    156      Good   72   \n",
      "264   6.95        128    29.0            5         324    159      Good   31   \n",
      "269   5.01        159    69.0            0         438    166    Medium   46   \n",
      "272    NaN        113    33.0            0          14     63      Good   38   \n",
      "279   3.42        141    57.0           13         376    158    Medium   64   \n",
      "282   7.74        150    96.0            0          80    154      Good   61   \n",
      "287   6.88         95     NaN            4         208     72       Bad   44   \n",
      "289   8.75        143    77.0           25         448    156    Medium   43   \n",
      "292    NaN        113    66.0           16         322     74      Good   76   \n",
      "309  11.18        131     NaN           13          33     80       Bad   68   \n",
      "310   9.53        175    65.0           29         419    166    Medium   53   \n",
      "313   9.33        103    81.0            3         491     54    Medium   66   \n",
      "315   6.39        131    21.0            8         220    171      Good   29   \n",
      "316    NaN        122    36.0            5         369     72      Good   35   \n",
      "320   5.86        136    70.0           12         171    152    Medium   44   \n",
      "356   3.58        142   109.0            0         111    164      Good   72   \n",
      "357    NaN        103    73.0            3         276     72    Medium   34   \n",
      "365   6.53        154    30.0            0         122    162    Medium   57   \n",
      "367    NaN         95   106.0            0         256     53      Good   52   \n",
      "368  10.71        109    22.0           10         348     79      Good   74   \n",
      "383   9.35         98   117.0            0          76     68    Medium   63   \n",
      "386   5.32        152   116.0            0         170    160    Medium   39   \n",
      "388   8.14        135    89.0           11         245     78       Bad   79   \n",
      "397   7.41        162    26.0           12         368    159    Medium   40   \n",
      "\n",
      "     Education Urban   US  StandarizedIncome Income_bin Income_bin_equal  \n",
      "2           12   Yes  Yes          -1.201852        Low              Low  \n",
      "5           16    No  Yes           1.583145       High             High  \n",
      "18          17   NaN  Yes           1.476029       High             High  \n",
      "42          18   Yes   No                NaN        NaN              NaN  \n",
      "46          15    No  Yes           0.761928   Mid-High             High  \n",
      "55          18   Yes  Yes           0.440582   Mid-High              Mid  \n",
      "76          15   Yes  Yes           0.654812   Mid-High              Mid  \n",
      "80          11   Yes  Yes           1.118978       High             High  \n",
      "123         15    No  Yes           1.226094       High             High  \n",
      "125         15    No   No           0.333467   Mid-High              Mid  \n",
      "130         12   Yes  Yes           0.547697   Mid-High              Mid  \n",
      "143         17   Yes  Yes           0.690517   Mid-High             High  \n",
      "155         16   Yes   No                NaN        NaN              NaN  \n",
      "156         16   Yes   No          -1.237557        Low              Low  \n",
      "159         18    No   No          -0.309225    Mid-Low              Mid  \n",
      "161         12    No  Yes          -1.701723        Low              Low  \n",
      "165         15   Yes  Yes          -0.380635    Mid-Low              Mid  \n",
      "169         18   Yes  Yes          -0.987621        Low              Low  \n",
      "171         15   Yes  Yes           1.333209       High             High  \n",
      "174         15    No   No          -1.594608        Low              Low  \n",
      "176         11    No  Yes           1.368914       High             High  \n",
      "191         14   Yes  Yes          -0.951916        Low              Low  \n",
      "203         14   Yes   No           0.476287   Mid-High              Mid  \n",
      "206         17   Yes  Yes          -0.059289    Mid-Low              Mid  \n",
      "208         12   NaN   No          -0.523455    Mid-Low              Low  \n",
      "228         11    No  Yes           0.154941   Mid-High              Mid  \n",
      "229         18    No   No           1.261799       High             High  \n",
      "250         14   Yes  Yes           1.297504       High             High  \n",
      "264         15   Yes  Yes          -1.416082        Low              Low  \n",
      "269         17   Yes   No           0.012121    Mid-Low              Mid  \n",
      "272         12   Yes   No          -1.273262        Low              Low  \n",
      "279         18   Yes  Yes          -0.416340    Mid-Low              Mid  \n",
      "282         11   Yes   No           0.976158       High             High  \n",
      "287         17   Yes  Yes                NaN        NaN              NaN  \n",
      "289         17   Yes  Yes           0.297762   Mid-High              Mid  \n",
      "292         15   Yes  Yes          -0.094994    Mid-Low              Mid  \n",
      "309         18   Yes  Yes                NaN        NaN              NaN  \n",
      "310         12   Yes  Yes          -0.130699    Mid-Low              Mid  \n",
      "313         13   Yes   No           0.440582   Mid-High              Mid  \n",
      "315         14   NaN  Yes          -1.701723        Low              Low  \n",
      "316         10   Yes  Yes          -1.166147        Low              Low  \n",
      "320         18   Yes  Yes           0.047826   Mid-High              Mid  \n",
      "356         12   NaN   No           1.440324       High             High  \n",
      "357         15   Yes  Yes           0.154941   Mid-High              Mid  \n",
      "365         17    No   No          -1.380377        Low              Low  \n",
      "367         17   Yes   No           1.333209       High             High  \n",
      "368         14    No  Yes          -1.666018        Low              Low  \n",
      "383         10   Yes   No           1.725965       High             High  \n",
      "386         16   Yes   No           1.690260       High             High  \n",
      "388         16   Yes  Yes           0.726223   Mid-High             High  \n",
      "397         18   Yes  Yes          -1.523198        Low              Low  \n"
     ]
    }
   ],
   "source": [
    "col = 'Price'\n",
    "\n",
    "outliers2 = carseats[col][np.abs(carseats[col] - carseats[col].mean()) > (1.5 * carseats[col].std())]\n",
    "outliers2_idx = carseats.index[carseats[col].isin(outliers2)]\n",
    "\n",
    "print(f\"Outliers in {col}:\")\n",
    "print(carseats.loc[outliers2_idx])\n"
   ]
  },
  {
   "cell_type": "code",
   "execution_count": 68,
   "metadata": {},
   "outputs": [],
   "source": [
    "carseats.loc[outliers2_idx, 'Price'] = np.nan\n"
   ]
  },
  {
   "cell_type": "code",
   "execution_count": 69,
   "metadata": {},
   "outputs": [
    {
     "name": "stdout",
     "output_type": "stream",
     "text": [
      "Outliers in CompPrice:\n",
      "     Sales  CompPrice  Income  Advertising  Population  Price ShelveLoc  Age  \\\n",
      "15    8.71        149    95.0            5         400  144.0    Medium   76   \n",
      "27    5.27         98   118.0            0          19  107.0    Medium   64   \n",
      "41    7.96        157     NaN            0         403  124.0       Bad   58   \n",
      "42   10.43         77     NaN            0          25    NaN    Medium   50   \n",
      "44    4.16         85    79.0            6         325   95.0    Medium   69   \n",
      "49   10.61        157    93.0            0          51  149.0      Good   32   \n",
      "50     NaN         99    32.0           18         341  108.0       Bad   80   \n",
      "52    7.91        153    40.0            3         112  129.0       Bad   39   \n",
      "57     NaN         93    91.0            0          22  117.0       Bad   75   \n",
      "64    7.80        100    67.0           12         184  104.0    Medium   32   \n",
      "68     NaN        149    69.0           20         366  134.0      Good   60   \n",
      "70    9.46         89    81.0           15         237   99.0      Good   74   \n",
      "71    6.50        148    51.0           16         148  150.0    Medium   58   \n",
      "74    6.20        150    68.0            5         125  136.0    Medium   64   \n",
      "75    8.55         88   111.0           23         480   92.0       Bad   36   \n",
      "82   11.62        151    83.0            4         325  139.0      Good   28   \n",
      "86    8.70        150    84.0            9         432  134.0    Medium   64   \n",
      "91    4.81         97     NaN           11         267  107.0    Medium   80   \n",
      "97    7.45        161    82.0            5         287  129.0       Bad   33   \n",
      "125   9.34         89    78.0            0         181    NaN    Medium   43   \n",
      "126  11.27        153    68.0            2          60  133.0      Good   59   \n",
      "130   8.41         94    84.0           13         497    NaN    Medium   51   \n",
      "135   6.44         96    94.0           14         384  120.0    Medium   36   \n",
      "153   5.93        150    36.0            7         488  150.0    Medium   25   \n",
      "155   7.71         98     NaN            0          59    NaN    Medium   65   \n",
      "164   8.22        148    64.0            0          58  141.0    Medium   27   \n",
      "171    NaN         93   106.0           12         416    NaN    Medium   75   \n",
      "191   6.67        156    42.0           13         170    NaN      Good   74   \n",
      "204   8.74        155    80.0            0         237  124.0    Medium   37   \n",
      "206   4.97        162    67.0            0          27    NaN    Medium   77   \n",
      "208   7.78         86    54.0            0         497    NaN       Bad   33   \n",
      "209    NaN         98    21.0           11         326   90.0       Bad   76   \n",
      "213   8.23        149    84.0            5         220  139.0    Medium   33   \n",
      "228   5.40        149    73.0           13         381    NaN       Bad   26   \n",
      "229  11.19         98   104.0            0         404    NaN    Medium   27   \n",
      "237   9.62        151    28.0            8         499  135.0    Medium   48   \n",
      "240  10.31        159    80.0            0         362  121.0    Medium   26   \n",
      "269   5.01        159    69.0            0         438    NaN    Medium   46   \n",
      "282   7.74        150    96.0            0          80    NaN      Good   61   \n",
      "287   6.88         95     NaN            4         208    NaN       Bad   44   \n",
      "294    NaN        148    76.0            3         126   99.0      Good   60   \n",
      "298  10.98        148    63.0            0         312  130.0      Good   63   \n",
      "301   7.41         99    93.0            0         198   87.0    Medium   57   \n",
      "310   9.53        175    65.0           29         419    NaN    Medium   53   \n",
      "329  11.27        100    54.0            9         433   89.0      Good   45   \n",
      "334   7.63         93   117.0            9         489   83.0       Bad   42   \n",
      "341   7.38         98   120.0            0         268   93.0    Medium   72   \n",
      "347   6.88         96    39.0            0         161  112.0      Good   27   \n",
      "365   6.53        154    30.0            0         122    NaN    Medium   57   \n",
      "367    NaN         95   106.0            0         256    NaN      Good   52   \n",
      "371   9.08        152    81.0            0         191  126.0    Medium   54   \n",
      "383   9.35         98   117.0            0          76    NaN    Medium   63   \n",
      "386   5.32        152   116.0            0         170    NaN    Medium   39   \n",
      "391   6.10        153    63.0            0          49  124.0       Bad   56   \n",
      "397   7.41        162    26.0           12         368    NaN    Medium   40   \n",
      "398   5.94        100    79.0            7         284   95.0       Bad   50   \n",
      "\n",
      "     Education Urban   US  StandarizedIncome Income_bin Income_bin_equal  \n",
      "15          18    No   No           0.940453       High             High  \n",
      "27          17   Yes   No           1.761670       High             High  \n",
      "41          16   Yes   No                NaN        NaN              NaN  \n",
      "42          18   Yes   No                NaN        NaN              NaN  \n",
      "44          13   Yes  Yes           0.369172   Mid-High              Mid  \n",
      "49          17   Yes   No           0.869043       High             High  \n",
      "50          16   Yes  Yes          -1.308967        Low              Low  \n",
      "52          18   Yes  Yes          -1.023326        Low              Low  \n",
      "57          11   Yes   No           0.797633       High             High  \n",
      "64          16    No  Yes          -0.059289    Mid-Low              Mid  \n",
      "68          13   Yes  Yes           0.012121    Mid-Low              Mid  \n",
      "70          12   Yes  Yes           0.440582   Mid-High              Mid  \n",
      "71          17    No  Yes          -0.630571    Mid-Low              Low  \n",
      "74          13    No  Yes          -0.023584    Mid-Low              Mid  \n",
      "75          16    No  Yes           1.511734       High             High  \n",
      "82          17   Yes  Yes           0.511992   Mid-High              Mid  \n",
      "86          15   Yes   No           0.547697   Mid-High              Mid  \n",
      "91          15   Yes  Yes                NaN        NaN              NaN  \n",
      "97          16   Yes  Yes           0.476287   Mid-High              Mid  \n",
      "125         15    No   No           0.333467   Mid-High              Mid  \n",
      "126         16   Yes  Yes          -0.023584    Mid-Low              Mid  \n",
      "130         12   Yes  Yes           0.547697   Mid-High              Mid  \n",
      "135         18    No  Yes           0.904748       High             High  \n",
      "153         17    No  Yes          -1.166147        Low              Low  \n",
      "155         16   Yes   No                NaN        NaN              NaN  \n",
      "164         13    No  Yes          -0.166404    Mid-Low              Mid  \n",
      "171         15   Yes  Yes           1.333209       High             High  \n",
      "191         14   Yes  Yes          -0.951916        Low              Low  \n",
      "204         14   Yes   No           0.404877   Mid-High              Mid  \n",
      "206         17   Yes  Yes          -0.059289    Mid-Low              Mid  \n",
      "208         12   NaN   No          -0.523455    Mid-Low              Low  \n",
      "209         11    No  Yes          -1.701723        Low              Low  \n",
      "213         10   Yes  Yes           0.547697   Mid-High              Mid  \n",
      "228         11    No  Yes           0.154941   Mid-High              Mid  \n",
      "229         18    No   No           1.261799       High             High  \n",
      "237         10   Yes  Yes          -1.451787        Low              Low  \n",
      "240         18   Yes   No           0.404877   Mid-High              Mid  \n",
      "269         17   Yes   No           0.012121    Mid-Low              Mid  \n",
      "282         11   Yes   No           0.976158       High             High  \n",
      "287         17   Yes  Yes                NaN        NaN              NaN  \n",
      "294         11   Yes  Yes           0.262057   Mid-High              Mid  \n",
      "298         15   Yes   No          -0.202110    Mid-Low              Mid  \n",
      "301         16   Yes  Yes           0.869043       High             High  \n",
      "310         12   Yes  Yes          -0.130699    Mid-Low              Mid  \n",
      "329         12   Yes  Yes          -0.523455    Mid-Low              Low  \n",
      "334         13   Yes  Yes           1.725965       High             High  \n",
      "341         10    No   No           1.833080       High             High  \n",
      "347         14    No   No          -1.059032        Low              Low  \n",
      "365         17    No   No          -1.380377        Low              Low  \n",
      "367         17   Yes   No           1.333209       High             High  \n",
      "371         16   Yes   No           0.440582   Mid-High              Mid  \n",
      "383         10   Yes   No           1.725965       High             High  \n",
      "386         16   Yes   No           1.690260       High             High  \n",
      "391         16   Yes   No          -0.202110    Mid-Low              Mid  \n",
      "397         18   Yes  Yes          -1.523198        Low              Low  \n",
      "398         12   Yes  Yes           0.369172   Mid-High              Mid  \n"
     ]
    }
   ],
   "source": [
    "col = 'CompPrice'\n",
    "\n",
    "outliers3 = carseats[col][np.abs(carseats[col] - carseats[col].mean()) > (1.5 * carseats[col].std())]\n",
    "outliers3_idx = carseats.index[carseats[col].isin(outliers3)]\n",
    "\n",
    "print(f\"Outliers in {col}:\")\n",
    "print(carseats.loc[outliers3_idx])\n"
   ]
  },
  {
   "cell_type": "code",
   "execution_count": 70,
   "metadata": {},
   "outputs": [],
   "source": [
    "carseats.loc[outliers3_idx, 'CompPrice'] = np.nan\n"
   ]
  },
  {
   "cell_type": "code",
   "execution_count": 71,
   "metadata": {},
   "outputs": [
    {
     "name": "stdout",
     "output_type": "stream",
     "text": [
      "Sales                 0\n",
      "CompPrice             0\n",
      "Income                0\n",
      "Advertising           0\n",
      "Population            0\n",
      "Price                 0\n",
      "Age                   0\n",
      "Education             0\n",
      "StandarizedIncome     0\n",
      "ShelveLoc             0\n",
      "Urban                10\n",
      "US                    0\n",
      "Income_bin           20\n",
      "Income_bin_equal     20\n",
      "dtype: int64\n"
     ]
    }
   ],
   "source": [
    "from sklearn.impute import KNNImputer\n",
    "from sklearn.preprocessing import OneHotEncoder\n",
    "\n",
    "# Zamień wartości nieskończone na NaN (gdyby jakieś były)\n",
    "carseats.replace([np.inf, -np.inf], np.nan, inplace=True)\n",
    "\n",
    "# Podziel kolumny na liczbowe i kategoryczne\n",
    "numeric_cols = carseats.select_dtypes(include=[np.number]).columns\n",
    "categorical_cols = carseats.select_dtypes(exclude=[np.number]).columns\n",
    "\n",
    "# One-hot encoding kolumn kategorycznych\n",
    "encoder = OneHotEncoder(sparse_output=False, handle_unknown='ignore')\n",
    "encoded_categorical = pd.DataFrame(\n",
    "    encoder.fit_transform(carseats[categorical_cols]),\n",
    "    columns=encoder.get_feature_names_out(categorical_cols),\n",
    "    index=carseats.index\n",
    ")\n",
    "\n",
    "# Połącz dane liczbowe z zakodowanymi kategoriami\n",
    "combined_data = pd.concat([carseats[numeric_cols], encoded_categorical], axis=1)\n",
    "\n",
    "# Inicjalizuj i zastosuj KNNImputer\n",
    "imputer = KNNImputer(n_neighbors=3)\n",
    "imputed_data = imputer.fit_transform(combined_data)\n",
    "\n",
    "# Stwórz DataFrame z zaimputowanymi danymi\n",
    "imputed_df = pd.DataFrame(imputed_data, columns=combined_data.columns, index=carseats.index)\n",
    "\n",
    "# Odkoduj kategorie z powrotem z one-hot\n",
    "decoded_categorical = pd.DataFrame(\n",
    "    encoder.inverse_transform(imputed_df[encoded_categorical.columns]),\n",
    "    columns=categorical_cols,\n",
    "    index=carseats.index\n",
    ")\n",
    "\n",
    "# Finalne dane: połączenie kolumn liczbowych i oryginalnych kategorii\n",
    "final_carseats = pd.concat([imputed_df[numeric_cols], decoded_categorical], axis=1)\n",
    "\n",
    "# Sprawdź brakujące wartości\n",
    "print(final_carseats.isna().sum())\n"
   ]
  },
  {
   "cell_type": "code",
   "execution_count": 72,
   "metadata": {},
   "outputs": [],
   "source": [
    "final_carseats['Income_bin'] = pd.qcut(final_carseats['Income'], q=4, labels=['Low', 'Mid-Low', 'Mid-High', 'High'])\n",
    "final_carseats['Income_bin_equal'] = pd.cut(final_carseats['Income'], bins=4, labels=['Low', 'Mid', 'High', 'Very High'])\n"
   ]
  },
  {
   "cell_type": "code",
   "execution_count": 73,
   "metadata": {},
   "outputs": [
    {
     "name": "stdout",
     "output_type": "stream",
     "text": [
      "Sales                 0\n",
      "CompPrice             0\n",
      "Income                0\n",
      "Advertising           0\n",
      "Population            0\n",
      "Price                 0\n",
      "Age                   0\n",
      "Education             0\n",
      "StandarizedIncome     0\n",
      "ShelveLoc             0\n",
      "Urban                10\n",
      "US                    0\n",
      "Income_bin            0\n",
      "Income_bin_equal      0\n",
      "dtype: int64\n"
     ]
    }
   ],
   "source": [
    "print(final_carseats.isna().sum())"
   ]
  },
  {
   "cell_type": "code",
   "execution_count": 74,
   "metadata": {},
   "outputs": [],
   "source": [
    "final_carseats['Urban'] = final_carseats['Urban'].fillna(final_carseats['Urban'].mode()[0])\n"
   ]
  },
  {
   "cell_type": "code",
   "execution_count": 75,
   "metadata": {},
   "outputs": [
    {
     "name": "stdout",
     "output_type": "stream",
     "text": [
      "Sales                0\n",
      "CompPrice            0\n",
      "Income               0\n",
      "Advertising          0\n",
      "Population           0\n",
      "Price                0\n",
      "Age                  0\n",
      "Education            0\n",
      "StandarizedIncome    0\n",
      "ShelveLoc            0\n",
      "Urban                0\n",
      "US                   0\n",
      "Income_bin           0\n",
      "Income_bin_equal     0\n",
      "dtype: int64\n"
     ]
    }
   ],
   "source": [
    "print(final_carseats.isna().sum())"
   ]
  }
 ],
 "metadata": {
  "kernelspec": {
   "display_name": "Python 3",
   "language": "python",
   "name": "python3"
  },
  "language_info": {
   "codemirror_mode": {
    "name": "ipython",
    "version": 3
   },
   "file_extension": ".py",
   "mimetype": "text/x-python",
   "name": "python",
   "nbconvert_exporter": "python",
   "pygments_lexer": "ipython3",
   "version": "3.13.2"
  }
 },
 "nbformat": 4,
 "nbformat_minor": 2
}
